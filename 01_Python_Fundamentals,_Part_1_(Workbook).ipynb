{
  "cells": [
    {
      "cell_type": "markdown",
      "metadata": {
        "id": "B1e2-E4ae3qs"
      },
      "source": [
        "# PYTHON FUNDAMENTALS, Part 1 (Workbook)\n",
        "\n",
        "[CC BY 4.0](https://creativecommons.org/licenses/by/4.0/)"
      ]
    },
    {
      "cell_type": "markdown",
      "metadata": {
        "id": "HJMPEqmke3qu"
      },
      "source": [
        "## Credits\n",
        "\n",
        "Most code snippets and explanatory texts from:\n",
        "- Charles Russel Severance's [Python for Everybody](https://www.py4e.com/) lecture slides\n",
        "  -  Unless annotated as indicated below, text and code came from this source. Additionally, they could be explicitly indicated by the marker `[PES]`\n",
        "\n",
        "and\n",
        "- Charles Russel Severance's [Python for Everybody - Online HTML Book](https://www.py4e.com/html3/)\n",
        "  - Notes and codes from this source are indicated by this the marker `[PEW]`\n",
        "\n",
        "Additional codes and comments from:\n",
        "\n",
        "- J.R. Johansson's [Introduction to Scientific Computing with Python](http://github.com/jrjohansson/scientific-python-lectures)\n",
        "  - Notes and codes from this source are indicated by this the marker `[JRJ]`"
      ]
    },
    {
      "cell_type": "markdown",
      "metadata": {
        "id": "Kr2MAhwde3qv"
      },
      "source": [
        "# Before you begin\n",
        "\n",
        "First, make a copy of this notebook so that you can make changes as you please. Run and edit the copy instead of this original notebook. To copy this notebook, go to `File|Make a Copy`.\n",
        "\n",
        "If this notebook is already a copy of the original, clear all outputs in this notebook. Go to the Menu and click on `Cell| All Outputs| Clear`. Once this is done, you're ready to go."
      ]
    },
    {
      "cell_type": "markdown",
      "metadata": {
        "id": "6Ihjm6zTe3qv"
      },
      "source": [
        "# Suggestions for Learning\n",
        "\n",
        "- Code snippets in Raw Cells are meant to be written by Beginners.\n",
        "- Code snippets in Code Cells are for illustration purposes. They are meant to be executed by both Beginners and more experienced Learners. (Beginners, may wish to also type them, if they so choose).\n",
        "\n",
        "For better learning experience, the following are suggested:\n",
        "\n",
        "### For Beginners\n",
        "1. Create a new Code Cell below the code snippets inside Raw Cells (Insert Cell below then convert the cell type to Code Cell).\n",
        "2. Go to your newly-created Code Cell and re-type what you see in the code snippet (don't copy-paste)\n",
        "3. Execute (and experiment) on the Code Cell.\n",
        "4. Remember to learn by doing (not just by reading or seeing)\n",
        "\n",
        "### For Coders\n",
        "1. If you are not yet familiar with the concept, follow Steps 1&2 of the Instructions for Beginners\n",
        "2. If you are already familiar with the concept being presented, convert the Raw Cell into a Code Cell.\n",
        "3. Execute (and experiment) on the Code Cell.\n",
        "4. Learn the \"adjacent concepts\", e.g. read related documentation\n",
        "5. Help your classmates, because teaching is a wonderful way to learn.\n",
        "\n",
        "### For All\n",
        "* Make this your personal notebook.\n",
        "    * Add your own text annotations in Markup Cells.\n",
        "    * Add comments to parts of code that you find difficult to understand\n",
        "    * Breakdown difficult code into several small pieces (maybe, several Code Cells) that are easier to understand"
      ]
    },
    {
      "cell_type": "markdown",
      "metadata": {
        "id": "FdqsuWtge3qw"
      },
      "source": [
        "<a id='contents'></a>"
      ]
    },
    {
      "cell_type": "markdown",
      "metadata": {
        "id": "VUJp88Kke3qw"
      },
      "source": [
        "# TABLE OF CONTENTS"
      ]
    },
    {
      "cell_type": "markdown",
      "metadata": {
        "id": "X1z9vi3re3qw"
      },
      "source": [
        "[Terminal Commands and Magic Commands (Optional)](#chapter0)<br>\n",
        "[Chapter 1 Introduction](#chapter1)<br>\n",
        "[Chapter 2 Variables, Expressions, and Statements](#chapter2)<br>\n",
        "[Chapter 3 Conditional Execution](#chapter3)<br>\n",
        "[Chapter 4 Functions](#chapter4)<br>\n",
        "[Chapter 5 Iterations](#chapter5)<br>"
      ]
    },
    {
      "cell_type": "markdown",
      "metadata": {
        "id": "freOoZQKe3qw"
      },
      "source": [
        "<a id='chapter0'></a>"
      ]
    },
    {
      "cell_type": "markdown",
      "metadata": {
        "id": "Vlq8Y5HXe3qx"
      },
      "source": [
        "# Terminal Commands and Magic Commands (Optional)"
      ]
    },
    {
      "cell_type": "markdown",
      "metadata": {
        "id": "QlXG9uq6e3qx"
      },
      "source": [
        "Below are some useful tools for doing work in Jupyter. Although they are executed in Code Cells **they are not python code** and could not be used in python programs. This section is not in [PES] nor [PEW]"
      ]
    },
    {
      "cell_type": "markdown",
      "metadata": {
        "id": "Vhbyggq9e3qx"
      },
      "source": [
        "## Terminal Commands\n",
        "You can execute terminal (or shell) commands within Jupyter Notebooks by prepending them with the exclamation mark"
      ]
    },
    {
      "cell_type": "markdown",
      "metadata": {
        "id": "t_K7dt6le3qx"
      },
      "source": [
        "### Windows Terminal Commands"
      ]
    },
    {
      "cell_type": "markdown",
      "metadata": {
        "id": "y1V26TM0e3qx"
      },
      "source": [
        "If you are running Windows, you could try the following commands"
      ]
    },
    {
      "cell_type": "markdown",
      "metadata": {
        "id": "aspbz_0Ke3qx"
      },
      "source": [
        "#### `Directory` Command\n",
        "Shows current directory and its contents"
      ]
    },
    {
      "cell_type": "raw",
      "metadata": {
        "id": "YIDVGm2ue3qy"
      },
      "source": [
        "!dir"
      ]
    },
    {
      "cell_type": "markdown",
      "metadata": {
        "id": "T70tieN7e3qy"
      },
      "source": [
        "#### `Type` Command\n",
        "Displays the contents of the file to the screen"
      ]
    },
    {
      "cell_type": "raw",
      "metadata": {
        "id": "5A11ipnie3qy"
      },
      "source": [
        "!type words.txt"
      ]
    },
    {
      "cell_type": "markdown",
      "metadata": {
        "id": "i3ywkHnre3qy"
      },
      "source": [
        "### Linux and Mac Commands"
      ]
    },
    {
      "cell_type": "markdown",
      "metadata": {
        "id": "MhY4WPOue3qy"
      },
      "source": [
        "#### `pwd` Command\n",
        "Prints the name of the current directory"
      ]
    },
    {
      "cell_type": "raw",
      "metadata": {
        "id": "IooObtxAe3qy"
      },
      "source": [
        "!pwd"
      ]
    },
    {
      "cell_type": "markdown",
      "metadata": {
        "id": "EoL8vNZve3qy"
      },
      "source": [
        "#### `ls` command\n",
        "Prints a list of files in the current directory"
      ]
    },
    {
      "cell_type": "markdown",
      "metadata": {
        "id": "io5ssPbKe3qy"
      },
      "source": [
        "!ls"
      ]
    },
    {
      "cell_type": "markdown",
      "metadata": {
        "id": "GNjRYbjPe3qy"
      },
      "source": [
        "#### `cat` command\n",
        "Displays the contents of a file to screen. `Cat` is short for con**cat**enate."
      ]
    },
    {
      "cell_type": "raw",
      "metadata": {
        "id": "k5wrlIdye3qy"
      },
      "source": [
        "!cat words.txt"
      ]
    },
    {
      "cell_type": "markdown",
      "metadata": {
        "id": "q1r-AFqqe3qz"
      },
      "source": [
        "!cat words.py"
      ]
    },
    {
      "cell_type": "markdown",
      "metadata": {
        "id": "03oPiqQee3qz"
      },
      "source": [
        "## Magic Commands\n",
        "Running Jupyter with a python kernel allows you to use Magic commands that allows you to do many useful things."
      ]
    },
    {
      "cell_type": "markdown",
      "metadata": {
        "id": "30327V0We3qz"
      },
      "source": [
        "#### load\n",
        "Load magic allows you to load the contents of a file to a cell"
      ]
    },
    {
      "cell_type": "raw",
      "metadata": {
        "id": "Byfp0rV2e3qz"
      },
      "source": [
        "# %load words.py\n",
        "name = input('Enter file:')\n",
        "handle = open(name, 'r')\n",
        "counts = dict()\n",
        "\n",
        "for line in handle:\n",
        "    words = line.split()\n",
        "    for word in words:\n",
        "        counts[word] = counts.get(word, 0) + 1\n",
        "\n",
        "bigcount = None\n",
        "bigword = None\n",
        "for word, count in list(counts.items()):\n",
        "    if bigcount is None or count > bigcount:\n",
        "        bigword = word\n",
        "        bigcount = count\n",
        "\n",
        "print(bigword, bigcount)\n"
      ]
    },
    {
      "cell_type": "markdown",
      "metadata": {
        "id": "kIiHpKH1e3qz"
      },
      "source": [
        "#### writefile\n",
        "Write the contents of a cell to a file"
      ]
    },
    {
      "cell_type": "code",
      "execution_count": null,
      "metadata": {
        "colab": {
          "base_uri": "https://localhost:8080/"
        },
        "id": "5xB7RTiWe3qz",
        "outputId": "f79927cf-54d9-4aa8-f3a4-e423778d6ca7"
      },
      "outputs": [
        {
          "name": "stdout",
          "output_type": "stream",
          "text": [
            "Writing helloworld.py\n"
          ]
        }
      ],
      "source": [
        "%%writefile helloworld.py #creating a helloworld.py file\n",
        "print('Hello world!')"
      ]
    },
    {
      "cell_type": "code",
      "execution_count": null,
      "metadata": {},
      "outputs": [],
      "source": [
        "6 + 7"
      ]
    },
    {
      "cell_type": "markdown",
      "metadata": {
        "id": "OHumi7Eae3qz"
      },
      "source": [
        "Let's check if the file is written:"
      ]
    },
    {
      "cell_type": "raw",
      "metadata": {
        "id": "D-q0G6ASe3qz"
      },
      "source": [
        "# Run this cell if you're using Mac or Linux\n",
        "!cat helloworld.py"
      ]
    },
    {
      "cell_type": "code",
      "execution_count": null,
      "metadata": {
        "colab": {
          "base_uri": "https://localhost:8080/"
        },
        "id": "xb6xv0Woe3q0",
        "outputId": "131630c9-25b0-417e-8652-bfd7686f1f00"
      },
      "outputs": [
        {
          "name": "stdout",
          "output_type": "stream",
          "text": [
            "print('Hello world!')\n"
          ]
        }
      ],
      "source": [
        "# Run this cell if you're using Windows\n",
        "!type helloworld.py"
      ]
    },
    {
      "cell_type": "markdown",
      "metadata": {
        "id": "R_AW5UNKe3q0"
      },
      "source": [
        "#### run\n",
        "Runs a python script or jupyter notebook and display the contents."
      ]
    },
    {
      "cell_type": "markdown",
      "metadata": {
        "id": "4tXJc5KEe3q0"
      },
      "source": [
        "%run helloworld.py"
      ]
    },
    {
      "cell_type": "code",
      "execution_count": null,
      "metadata": {
        "id": "gMGNuuHBe3q0",
        "outputId": "6f49be00-027e-45a4-9fb0-3168c2f719ef"
      },
      "outputs": [
        {
          "ename": "Exception",
          "evalue": "File `'simple_expressions.ipynb'` not found.",
          "output_type": "error",
          "traceback": [
            "\u001b[1;31m---------------------------------------------------------------------------\u001b[0m",
            "\u001b[1;31mOSError\u001b[0m                                   Traceback (most recent call last)",
            "File \u001b[1;32mc:\\Users\\user\\anaconda3\\Lib\\site-packages\\IPython\\core\\magics\\execution.py:716\u001b[0m, in \u001b[0;36mExecutionMagics.run\u001b[1;34m(self, parameter_s, runner, file_finder)\u001b[0m\n\u001b[0;32m    715\u001b[0m     fpath \u001b[38;5;241m=\u001b[39m arg_lst[\u001b[38;5;241m0\u001b[39m]\n\u001b[1;32m--> 716\u001b[0m     filename \u001b[38;5;241m=\u001b[39m file_finder(fpath)\n\u001b[0;32m    717\u001b[0m \u001b[38;5;28;01mexcept\u001b[39;00m \u001b[38;5;167;01mIndexError\u001b[39;00m \u001b[38;5;28;01mas\u001b[39;00m e:\n",
            "File \u001b[1;32mc:\\Users\\user\\anaconda3\\Lib\\site-packages\\IPython\\utils\\path.py:90\u001b[0m, in \u001b[0;36mget_py_filename\u001b[1;34m(name)\u001b[0m\n\u001b[0;32m     89\u001b[0m         \u001b[38;5;28;01mreturn\u001b[39;00m py_name\n\u001b[1;32m---> 90\u001b[0m \u001b[38;5;28;01mraise\u001b[39;00m \u001b[38;5;167;01mIOError\u001b[39;00m(\u001b[38;5;124m\"\u001b[39m\u001b[38;5;124mFile `\u001b[39m\u001b[38;5;132;01m%r\u001b[39;00m\u001b[38;5;124m` not found.\u001b[39m\u001b[38;5;124m\"\u001b[39m \u001b[38;5;241m%\u001b[39m name)\n",
            "\u001b[1;31mOSError\u001b[0m: File `'simple_expressions.ipynb'` not found.",
            "\nThe above exception was the direct cause of the following exception:\n",
            "\u001b[1;31mException\u001b[0m                                 Traceback (most recent call last)",
            "Cell \u001b[1;32mIn[7], line 1\u001b[0m\n\u001b[1;32m----> 1\u001b[0m get_ipython()\u001b[38;5;241m.\u001b[39mrun_line_magic(\u001b[38;5;124m'\u001b[39m\u001b[38;5;124mrun\u001b[39m\u001b[38;5;124m'\u001b[39m, \u001b[38;5;124m'\u001b[39m\u001b[38;5;124msimple_expressions.ipynb\u001b[39m\u001b[38;5;124m'\u001b[39m)\n",
            "File \u001b[1;32mc:\\Users\\user\\anaconda3\\Lib\\site-packages\\IPython\\core\\interactiveshell.py:2456\u001b[0m, in \u001b[0;36mInteractiveShell.run_line_magic\u001b[1;34m(self, magic_name, line, _stack_depth)\u001b[0m\n\u001b[0;32m   2454\u001b[0m     kwargs[\u001b[38;5;124m'\u001b[39m\u001b[38;5;124mlocal_ns\u001b[39m\u001b[38;5;124m'\u001b[39m] \u001b[38;5;241m=\u001b[39m \u001b[38;5;28mself\u001b[39m\u001b[38;5;241m.\u001b[39mget_local_scope(stack_depth)\n\u001b[0;32m   2455\u001b[0m \u001b[38;5;28;01mwith\u001b[39;00m \u001b[38;5;28mself\u001b[39m\u001b[38;5;241m.\u001b[39mbuiltin_trap:\n\u001b[1;32m-> 2456\u001b[0m     result \u001b[38;5;241m=\u001b[39m fn(\u001b[38;5;241m*\u001b[39margs, \u001b[38;5;241m*\u001b[39m\u001b[38;5;241m*\u001b[39mkwargs)\n\u001b[0;32m   2458\u001b[0m \u001b[38;5;66;03m# The code below prevents the output from being displayed\u001b[39;00m\n\u001b[0;32m   2459\u001b[0m \u001b[38;5;66;03m# when using magics with decorator @output_can_be_silenced\u001b[39;00m\n\u001b[0;32m   2460\u001b[0m \u001b[38;5;66;03m# when the last Python token in the expression is a ';'.\u001b[39;00m\n\u001b[0;32m   2461\u001b[0m \u001b[38;5;28;01mif\u001b[39;00m \u001b[38;5;28mgetattr\u001b[39m(fn, magic\u001b[38;5;241m.\u001b[39mMAGIC_OUTPUT_CAN_BE_SILENCED, \u001b[38;5;28;01mFalse\u001b[39;00m):\n",
            "File \u001b[1;32mc:\\Users\\user\\anaconda3\\Lib\\site-packages\\IPython\\core\\magics\\execution.py:727\u001b[0m, in \u001b[0;36mExecutionMagics.run\u001b[1;34m(self, parameter_s, runner, file_finder)\u001b[0m\n\u001b[0;32m    725\u001b[0m     \u001b[38;5;28;01mif\u001b[39;00m os\u001b[38;5;241m.\u001b[39mname \u001b[38;5;241m==\u001b[39m \u001b[38;5;124m'\u001b[39m\u001b[38;5;124mnt\u001b[39m\u001b[38;5;124m'\u001b[39m \u001b[38;5;129;01mand\u001b[39;00m re\u001b[38;5;241m.\u001b[39mmatch(\u001b[38;5;124mr\u001b[39m\u001b[38;5;124m\"\u001b[39m\u001b[38;5;124m^\u001b[39m\u001b[38;5;124m'\u001b[39m\u001b[38;5;124m.*\u001b[39m\u001b[38;5;124m'\u001b[39m\u001b[38;5;124m$\u001b[39m\u001b[38;5;124m\"\u001b[39m,fpath):\n\u001b[0;32m    726\u001b[0m         warn(\u001b[38;5;124m'\u001b[39m\u001b[38;5;124mFor Windows, use double quotes to wrap a filename: \u001b[39m\u001b[38;5;132;01m%r\u001b[39;00m\u001b[38;5;124mun \u001b[39m\u001b[38;5;124m\"\u001b[39m\u001b[38;5;124mmypath\u001b[39m\u001b[38;5;130;01m\\\\\u001b[39;00m\u001b[38;5;124mmyfile.py\u001b[39m\u001b[38;5;124m\"\u001b[39m\u001b[38;5;124m'\u001b[39m)\n\u001b[1;32m--> 727\u001b[0m     \u001b[38;5;28;01mraise\u001b[39;00m \u001b[38;5;167;01mException\u001b[39;00m(msg) \u001b[38;5;28;01mfrom\u001b[39;00m \u001b[38;5;21;01me\u001b[39;00m\n\u001b[0;32m    728\u001b[0m \u001b[38;5;28;01mexcept\u001b[39;00m \u001b[38;5;167;01mTypeError\u001b[39;00m:\n\u001b[0;32m    729\u001b[0m     \u001b[38;5;28;01mif\u001b[39;00m fpath \u001b[38;5;129;01min\u001b[39;00m sys\u001b[38;5;241m.\u001b[39mmeta_path:\n",
            "\u001b[1;31mException\u001b[0m: File `'simple_expressions.ipynb'` not found."
          ]
        }
      ],
      "source": [
        "%run simple_expressions.ipynb"
      ]
    },
    {
      "cell_type": "markdown",
      "metadata": {
        "id": "w0OPIybpe3q0"
      },
      "source": [
        "#### who\n",
        "Displays a list of in-use variables"
      ]
    },
    {
      "cell_type": "code",
      "execution_count": null,
      "metadata": {
        "id": "DeFZc6kJe3q0",
        "outputId": "46fbcde8-56c5-48d5-8657-65593fa426dc"
      },
      "outputs": [
        {
          "name": "stdout",
          "output_type": "stream",
          "text": [
            "Interactive namespace is empty.\n"
          ]
        }
      ],
      "source": [
        "%who"
      ]
    },
    {
      "cell_type": "markdown",
      "metadata": {
        "id": "q_yJRIE7e3q0"
      },
      "source": [
        "[TABLE OF CONTENTS](#contents)"
      ]
    },
    {
      "cell_type": "markdown",
      "metadata": {
        "id": "uEpazC2Be3q6"
      },
      "source": [
        "<a id='chapter1'></a>"
      ]
    },
    {
      "cell_type": "markdown",
      "metadata": {
        "id": "1Cyedence3q6"
      },
      "source": [
        "# CHAPTER 1 - Introduction"
      ]
    },
    {
      "cell_type": "markdown",
      "metadata": {
        "id": "RXr_Qmnze3q6"
      },
      "source": [
        "Execute the code the code below."
      ]
    },
    {
      "cell_type": "code",
      "execution_count": null,
      "metadata": {
        "colab": {
          "base_uri": "https://localhost:8080/"
        },
        "id": "r1I8EhMhe3q6",
        "outputId": "04fdb6f1-3515-4aeb-d218-74f8286bda29"
      },
      "outputs": [
        {
          "name": "stdout",
          "output_type": "stream",
          "text": [
            "Hello world!\n"
          ]
        }
      ],
      "source": [
        "print('Hello world!') #displaying the Hello World"
      ]
    },
    {
      "cell_type": "code",
      "execution_count": null,
      "metadata": {
        "colab": {
          "base_uri": "https://localhost:8080/"
        },
        "id": "fOqkLEmme3q6",
        "outputId": "91db46a9-3e45-4652-b50a-7e539380a973"
      },
      "outputs": [
        {
          "name": "stdout",
          "output_type": "stream",
          "text": [
            "6\n"
          ]
        }
      ],
      "source": [
        "x = 6\n",
        "print(x) #displaying a numerical value 6"
      ]
    },
    {
      "cell_type": "code",
      "execution_count": null,
      "metadata": {
        "colab": {
          "base_uri": "https://localhost:8080/"
        },
        "id": "ry9GiM1ae3q6",
        "outputId": "59a44048-2819-49e7-fcd8-c45fe163c0d2"
      },
      "outputs": [
        {
          "name": "stdout",
          "output_type": "stream",
          "text": [
            "42\n"
          ]
        }
      ],
      "source": [
        "x = 6\n",
        "y = x * 7 # multiplying the content of object x to 7\n",
        "print(y)"
      ]
    },
    {
      "cell_type": "markdown",
      "metadata": {
        "id": "8vaejznTe3q7"
      },
      "source": [
        "In Jupyter (and in the Python interpreter) you can inspect the value of a variable by simply typing its name."
      ]
    },
    {
      "cell_type": "code",
      "execution_count": null,
      "metadata": {
        "colab": {
          "base_uri": "https://localhost:8080/"
        },
        "id": "qn-bq6N-e3q7",
        "outputId": "4c9057ef-518d-4372-db5b-e2ea8ffe8491"
      },
      "outputs": [
        {
          "data": {
            "text/plain": [
              "42"
            ]
          },
          "execution_count": 4,
          "metadata": {},
          "output_type": "execute_result"
        }
      ],
      "source": [
        "y"
      ]
    },
    {
      "cell_type": "markdown",
      "metadata": {
        "id": "q1ZwUxTme3q7"
      },
      "source": [
        "Execute the code below; no need to re-type it. Type `words.text` when prompted for a file."
      ]
    },
    {
      "cell_type": "raw",
      "metadata": {
        "id": "J3MyCrike3q7"
      },
      "source": [
        "name = input('Enter file:')\n",
        "handle = open(name, 'r')\n",
        "counts = dict()\n",
        "\n",
        "for line in handle:\n",
        "    words = line.split()\n",
        "    for word in words:\n",
        "        counts[word] = counts.get(word, 0) + 1\n",
        "\n",
        "bigcount = None\n",
        "bigword = None\n",
        "for word, count in list(counts.items()):\n",
        "    if bigcount is None or count > bigcount:\n",
        "        bigword = word\n",
        "        bigcount = count\n",
        "\n",
        "print(bigword, bigcount)\n",
        "\n",
        "# Code: http://www.py4e.com/code3/words.py"
      ]
    },
    {
      "cell_type": "markdown",
      "metadata": {
        "id": "ytsblVLne3q7"
      },
      "source": [
        "##  Whitespaces\n",
        "The non-printing characters space and tab are called whitespaces. Python interprets whitespaces in the following way:\n",
        "* whitespaces **after** the first visible character: These are ignored by python.\n",
        "    * Use whitespaces to make your code readable.\n",
        "* whitespaces **before** the first visible character (or indentation whitespaces): have a special meaning in python.  Specifically, it tells python how to group certain lines of code together.\n",
        "    * Be careful in mixing spaces and tabs as this could confuse you (and python) what you are really trying to do.\n",
        "    * If you are using a text editor or an Integrated Development Environment, use one with an option to convert Tabs to Spaces. Spyder has that feature. (More on these below).\n",
        "   \n",
        "<br>"
      ]
    },
    {
      "cell_type": "markdown",
      "metadata": {
        "id": "IYNvIerIe3q7"
      },
      "source": [
        "##  Code Comments\n",
        "Comments in python are indicated by the `#` character. Python ignores anything written **after** the `#` character.\n",
        "\n",
        "You can use code comments to\n",
        "* Explain the important or difficult parts of your program\n",
        "* Temporarily disable parts of your program\n",
        "\n",
        "<br>"
      ]
    },
    {
      "cell_type": "code",
      "execution_count": null,
      "metadata": {
        "id": "n3DwNNz5e3q7"
      },
      "outputs": [],
      "source": [
        "#The code below will not be executed\n",
        "#print('Hello World')\n",
        "\n"
      ]
    },
    {
      "cell_type": "markdown",
      "metadata": {
        "id": "gpH5vUose3q8"
      },
      "source": [
        "You can use code comments to\n",
        "* Explain the important or difficult parts of your program\n",
        "* Temporarily disable parts of your program\n",
        "<br>"
      ]
    },
    {
      "cell_type": "code",
      "execution_count": null,
      "metadata": {
        "colab": {
          "base_uri": "https://localhost:8080/"
        },
        "id": "d_GZuvD7e3q8",
        "outputId": "4f585e50-e32d-4d05-af8d-ac2d78ba3cec"
      },
      "outputs": [
        {
          "name": "stdout",
          "output_type": "stream",
          "text": [
            "Sekai konnichiwa!\n"
          ]
        }
      ],
      "source": [
        "# The text below tries to explain what the code is doing\n",
        "# Tell python to say \"Hello world\" in Japanese (romaji)\n",
        "print('Sekai konnichiwa!')\n",
        "\n",
        "#あ"
      ]
    },
    {
      "cell_type": "code",
      "execution_count": null,
      "metadata": {
        "colab": {
          "base_uri": "https://localhost:8080/"
        },
        "id": "EucCCYcJe3q8",
        "outputId": "b35d8d1c-b8ed-44f9-c07a-5eb25edb8593"
      },
      "outputs": [
        {
          "name": "stdout",
          "output_type": "stream",
          "text": [
            "Hello World!\n"
          ]
        }
      ],
      "source": [
        "#The code below will only greet in English\n",
        "print('Hello World!')\n",
        "#print('Sekai konnichiwa!')\n",
        "\n",
        "#あ"
      ]
    },
    {
      "cell_type": "markdown",
      "metadata": {
        "id": "g-VDzLH8e3q8"
      },
      "source": [
        "## EXERCISES"
      ]
    },
    {
      "cell_type": "markdown",
      "metadata": {
        "id": "r9WSaxgHe3q8"
      },
      "source": [
        "#### Exercise 1\n",
        "\n",
        "Each line of code below contains an error. Fix the error and explain in a comment the reason for the error."
      ]
    },
    {
      "cell_type": "code",
      "execution_count": null,
      "metadata": {
        "colab": {
          "base_uri": "https://localhost:8080/"
        },
        "id": "ewf34EkOe3q9",
        "outputId": "f0d08dc8-0dbd-42e3-b0e9-15150d232a08"
      },
      "outputs": [
        {
          "name": "stdout",
          "output_type": "stream",
          "text": [
            "Hello world!\n"
          ]
        }
      ],
      "source": [
        "print('Hello world!')\n",
        "# Python is case sensitive therefore\n",
        "# it couldn't recognize the function Print"
      ]
    },
    {
      "cell_type": "code",
      "execution_count": null,
      "metadata": {
        "colab": {
          "base_uri": "https://localhost:8080/"
        },
        "id": "gHjCAGKOe3q9",
        "outputId": "0d0fd867-d905-425b-9c00-6a9269c8467d"
      },
      "outputs": [
        {
          "name": "stdout",
          "output_type": "stream",
          "text": [
            "Hello world!\n"
          ]
        }
      ],
      "source": [
        "print('Hello world!')\n",
        "# A function/method needs a\n",
        "# open and close prenthesis"
      ]
    },
    {
      "cell_type": "code",
      "execution_count": null,
      "metadata": {
        "colab": {
          "base_uri": "https://localhost:8080/"
        },
        "id": "UzgJ21hoe3q9",
        "outputId": "8dd32d0b-1f3d-4338-cbd6-16fb960f5244"
      },
      "outputs": [
        {
          "name": "stdout",
          "output_type": "stream",
          "text": [
            "Hello world!\n"
          ]
        }
      ],
      "source": [
        "print('Hello world!')\n",
        "# The text is not enclosed in qoutation"
      ]
    },
    {
      "cell_type": "code",
      "execution_count": null,
      "metadata": {
        "colab": {
          "base_uri": "https://localhost:8080/"
        },
        "id": "fCPXblLre3q9",
        "outputId": "001619bd-1d55-4051-f3d7-bdd0ee09c377"
      },
      "outputs": [
        {
          "name": "stdout",
          "output_type": "stream",
          "text": [
            "Hello world!\n"
          ]
        }
      ],
      "source": [
        "print('Hello world!')\n",
        "# The code have an excess apostrophe"
      ]
    },
    {
      "cell_type": "markdown",
      "metadata": {
        "id": "J6VDpIK-e3q9"
      },
      "source": [
        "#### Exercise 2\n",
        "What is the output of the code below? [PEW]"
      ]
    },
    {
      "cell_type": "code",
      "execution_count": null,
      "metadata": {
        "colab": {
          "base_uri": "https://localhost:8080/"
        },
        "id": "g1KKu-i1e3q9",
        "outputId": "e8904d35-87ab-41cb-e9ab-75a199c45e54"
      },
      "outputs": [
        {
          "name": "stdout",
          "output_type": "stream",
          "text": [
            "44\n"
          ]
        }
      ],
      "source": [
        "x = 43\n",
        "x = x + 1\n",
        "print(x)"
      ]
    },
    {
      "cell_type": "markdown",
      "metadata": {
        "id": "1IADShEEe3q9"
      },
      "source": [
        "#### Exercise 3\n",
        "The code below contains an error. Fix the error and explain in a comment the reason for the error."
      ]
    },
    {
      "cell_type": "code",
      "execution_count": null,
      "metadata": {
        "colab": {
          "base_uri": "https://localhost:8080/"
        },
        "id": "N8h0sGX1e3q9",
        "outputId": "f2b0645d-4443-4ebb-a282-038fb74ee18a"
      },
      "outputs": [
        {
          "name": "stdout",
          "output_type": "stream",
          "text": [
            "44\n"
          ]
        }
      ],
      "source": [
        "x = 43\n",
        "x = x + 1\n",
        "print(x)\n",
        "\n",
        "# The variable 'X' is not defined\n",
        "# therefore I changed it in to 'x'\n",
        "# its lowercase form which is defined"
      ]
    },
    {
      "cell_type": "markdown",
      "metadata": {
        "id": "jrnayBsve3q9"
      },
      "source": [
        "[TABLE OF CONTENTS](#contents)"
      ]
    },
    {
      "cell_type": "markdown",
      "metadata": {
        "id": "grTGtDSVe3q9"
      },
      "source": [
        "<a id='chapter2'></a>"
      ]
    },
    {
      "cell_type": "markdown",
      "metadata": {
        "id": "_iDMW6r2e3q9"
      },
      "source": [
        "# CHAPTER 2 - Variables, Expressions, and Statements"
      ]
    },
    {
      "cell_type": "markdown",
      "metadata": {
        "id": "_pqtfvufe3q9"
      },
      "source": [
        "##  Values or Literals"
      ]
    },
    {
      "cell_type": "markdown",
      "metadata": {
        "id": "aWeqUWDee3q9"
      },
      "source": [
        "A **value** is one of the basic things a program works with, like a letter or a number.  The values we have seen so far are `1`, `2`, and `\"Hello, World!\"`"
      ]
    },
    {
      "cell_type": "markdown",
      "metadata": {
        "id": "iCR1zZAde3q9"
      },
      "source": [
        "Another name for values are **literals**."
      ]
    },
    {
      "cell_type": "code",
      "execution_count": null,
      "metadata": {
        "id": "OwEdUY47e3q9"
      },
      "outputs": [],
      "source": [
        "2"
      ]
    },
    {
      "cell_type": "code",
      "execution_count": null,
      "metadata": {
        "id": "kSWdmxTJe3q9"
      },
      "outputs": [],
      "source": [
        "print(2)"
      ]
    },
    {
      "cell_type": "code",
      "execution_count": null,
      "metadata": {
        "id": "Ghodu-vYe3q9"
      },
      "outputs": [],
      "source": [
        "'Hello world!'"
      ]
    },
    {
      "cell_type": "code",
      "execution_count": null,
      "metadata": {
        "id": "23PcB4nOe3q9"
      },
      "outputs": [],
      "source": [
        "print('Hello World')"
      ]
    },
    {
      "cell_type": "markdown",
      "metadata": {
        "id": "kAganItCe3q-"
      },
      "source": [
        "##  Types"
      ]
    },
    {
      "cell_type": "markdown",
      "metadata": {
        "id": "CsPpzwURe3q-"
      },
      "source": [
        "Values belong to different **types**: `2` is an **integer**, and `\"Hello, World!\"` is a **string**, so called because it contains a \"string\" of letters. You (and the interpreter) can identify strings because they are enclosed in quotation marks."
      ]
    },
    {
      "cell_type": "markdown",
      "metadata": {
        "id": "iOUDIqH8e3q-"
      },
      "source": [
        "Python strings can be enclosed in single quote(`'`) or double quotes (`\"`). The back quote (the character that shares the key with tilde `~`) cannot be used to identify strings."
      ]
    },
    {
      "cell_type": "code",
      "execution_count": null,
      "metadata": {
        "colab": {
          "base_uri": "https://localhost:8080/"
        },
        "id": "KyJI9TxKe3q-",
        "outputId": "b3b24081-b78c-4e1c-b957-5cdf90b69266"
      },
      "outputs": [
        {
          "data": {
            "text/plain": [
              "int"
            ]
          },
          "execution_count": 16,
          "metadata": {},
          "output_type": "execute_result"
        }
      ],
      "source": [
        "type(2)"
      ]
    },
    {
      "cell_type": "code",
      "execution_count": null,
      "metadata": {
        "colab": {
          "base_uri": "https://localhost:8080/"
        },
        "id": "f9omErMWe3q-",
        "outputId": "f7e47961-2f7a-4c4a-8056-ff8744af6e46"
      },
      "outputs": [
        {
          "data": {
            "text/plain": [
              "str"
            ]
          },
          "execution_count": 17,
          "metadata": {},
          "output_type": "execute_result"
        }
      ],
      "source": [
        "type('Hello, World!')"
      ]
    },
    {
      "cell_type": "code",
      "execution_count": null,
      "metadata": {
        "colab": {
          "base_uri": "https://localhost:8080/"
        },
        "id": "PvnSBGxee3q-",
        "outputId": "1acf78c2-4598-4f73-92d3-a50cfe02540e"
      },
      "outputs": [
        {
          "data": {
            "text/plain": [
              "float"
            ]
          },
          "execution_count": 18,
          "metadata": {},
          "output_type": "execute_result"
        }
      ],
      "source": [
        "type(3.2)"
      ]
    },
    {
      "cell_type": "code",
      "execution_count": null,
      "metadata": {
        "colab": {
          "base_uri": "https://localhost:8080/"
        },
        "id": "oGchBneMe3q-",
        "outputId": "64b473b8-ff87-467d-8115-7d0bf5342dad"
      },
      "outputs": [
        {
          "data": {
            "text/plain": [
              "str"
            ]
          },
          "execution_count": 20,
          "metadata": {},
          "output_type": "execute_result"
        }
      ],
      "source": [
        "type('17')"
      ]
    },
    {
      "cell_type": "code",
      "execution_count": null,
      "metadata": {
        "colab": {
          "base_uri": "https://localhost:8080/"
        },
        "id": "Y-cTZLume3q-",
        "outputId": "d9f5a3d0-90a5-4457-871a-c30c05a1b103"
      },
      "outputs": [
        {
          "data": {
            "text/plain": [
              "str"
            ]
          },
          "execution_count": 19,
          "metadata": {},
          "output_type": "execute_result"
        }
      ],
      "source": [
        "type('3.2')"
      ]
    },
    {
      "cell_type": "markdown",
      "metadata": {
        "id": "e-CTYLvze3q-"
      },
      "source": [
        "When you type a large integer, you might be tempted to use commas between groups of three digits, as in 1,000,000. This is not a legal integer in Python, but the code below is legal :"
      ]
    },
    {
      "cell_type": "code",
      "execution_count": null,
      "metadata": {
        "colab": {
          "base_uri": "https://localhost:8080/"
        },
        "id": "yCbS85zBe3q-",
        "outputId": "0b06cad3-b44c-47b9-a391-ff3f32034d23"
      },
      "outputs": [
        {
          "name": "stdout",
          "output_type": "stream",
          "text": [
            "1 0 0\n"
          ]
        }
      ],
      "source": [
        "print(1,000,000)"
      ]
    },
    {
      "cell_type": "markdown",
      "metadata": {
        "id": "Nj3KejOee3q-"
      },
      "source": [
        "## Reserved Words"
      ]
    },
    {
      "cell_type": "markdown",
      "metadata": {
        "id": "JZonFB8te3q-"
      },
      "source": [
        "These are words that have very special meaning to Python. When Python sees these words in a Python program, they have one and only one meaning to Python. You cannot use any of Python's reserved words as a name for a variable."
      ]
    },
    {
      "cell_type": "markdown",
      "metadata": {
        "id": "P6CR4ASDe3q-"
      },
      "source": [
        "    and       del       global      not       with\n",
        "    as        elif      if          or        yield\n",
        "    assert    else      import      pass\n",
        "    break     except    in          raise\n",
        "    class     finally   is          return\n",
        "    continue  for       lambda      try\n",
        "    def       from      nonlocal    while"
      ]
    },
    {
      "cell_type": "markdown",
      "metadata": {
        "id": "5kkRP5Hee3q-"
      },
      "source": [
        "You cannot use reserved words as names for variables and functions. (More on these below)"
      ]
    },
    {
      "cell_type": "markdown",
      "metadata": {
        "id": "p_pQhyxAe3q-"
      },
      "source": [
        "The following code cells will produce an error."
      ]
    },
    {
      "cell_type": "code",
      "execution_count": null,
      "metadata": {
        "colab": {
          "base_uri": "https://localhost:8080/",
          "height": 143
        },
        "id": "sr5UXiZXe3q-",
        "outputId": "fdcd0012-ca35-4947-8207-debd8f75a413"
      },
      "outputs": [
        {
          "ename": "SyntaxError",
          "evalue": "invalid syntax (<ipython-input-22-5b9b4a4ac3ca>, line 1)",
          "output_type": "error",
          "traceback": [
            "\u001b[0;36m  File \u001b[0;32m\"<ipython-input-22-5b9b4a4ac3ca>\"\u001b[0;36m, line \u001b[0;32m1\u001b[0m\n\u001b[0;31m    class = 2121\u001b[0m\n\u001b[0m          ^\u001b[0m\n\u001b[0;31mSyntaxError\u001b[0m\u001b[0;31m:\u001b[0m invalid syntax\n"
          ]
        }
      ],
      "source": [
        "class = 2121"
      ]
    },
    {
      "cell_type": "code",
      "execution_count": null,
      "metadata": {
        "colab": {
          "base_uri": "https://localhost:8080/",
          "height": 143
        },
        "id": "xIVIQTZxe3q-",
        "outputId": "9c09f037-a027-4eb8-a4ab-b17c5dcb4951"
      },
      "outputs": [
        {
          "ename": "SyntaxError",
          "evalue": "invalid syntax (<ipython-input-23-3ec2dce0c046>, line 1)",
          "output_type": "error",
          "traceback": [
            "\u001b[0;36m  File \u001b[0;32m\"<ipython-input-23-3ec2dce0c046>\"\u001b[0;36m, line \u001b[0;32m1\u001b[0m\n\u001b[0;31m    elif = 'Legolas'\u001b[0m\n\u001b[0m    ^\u001b[0m\n\u001b[0;31mSyntaxError\u001b[0m\u001b[0;31m:\u001b[0m invalid syntax\n"
          ]
        }
      ],
      "source": [
        "elif = 'Legolas'"
      ]
    },
    {
      "cell_type": "markdown",
      "metadata": {
        "id": "DOTihzzje3q-"
      },
      "source": [
        "## Variable Names"
      ]
    },
    {
      "cell_type": "markdown",
      "metadata": {
        "id": "mRVW6IsPe3q-"
      },
      "source": [
        "A variable is a named place in the memory where a programmer can store data and later retrieve the data using the variable “name”."
      ]
    },
    {
      "cell_type": "code",
      "execution_count": null,
      "metadata": {
        "colab": {
          "base_uri": "https://localhost:8080/"
        },
        "id": "SMig7mAXe3q-",
        "outputId": "e58bb2e0-3e29-40f4-d4e3-5e1144e737e7"
      },
      "outputs": [
        {
          "name": "stdout",
          "output_type": "stream",
          "text": [
            "12.2\n"
          ]
        }
      ],
      "source": [
        "x = 12.2\n",
        "print(x)"
      ]
    },
    {
      "cell_type": "code",
      "execution_count": null,
      "metadata": {
        "colab": {
          "base_uri": "https://localhost:8080/"
        },
        "id": "m9rgtwsxe3q-",
        "outputId": "5105c781-efdb-4817-ead4-2475ba75fa5b"
      },
      "outputs": [
        {
          "data": {
            "text/plain": [
              "14"
            ]
          },
          "execution_count": 25,
          "metadata": {},
          "output_type": "execute_result"
        }
      ],
      "source": [
        "y = 14\n",
        "y"
      ]
    },
    {
      "cell_type": "markdown",
      "metadata": {
        "id": "5kWAiZNJe3q_"
      },
      "source": [
        "You can change the contents of a variable in a later statement."
      ]
    },
    {
      "cell_type": "code",
      "execution_count": null,
      "metadata": {
        "colab": {
          "base_uri": "https://localhost:8080/"
        },
        "id": "0VlmlDgAe3q_",
        "outputId": "3ec6fe1b-3b86-455d-cf75-a343d075918b"
      },
      "outputs": [
        {
          "data": {
            "text/plain": [
              "100"
            ]
          },
          "execution_count": 26,
          "metadata": {},
          "output_type": "execute_result"
        }
      ],
      "source": [
        "x = 100\n",
        "x"
      ]
    },
    {
      "cell_type": "markdown",
      "metadata": {
        "id": "V9xDwAQIe3q_"
      },
      "source": [
        "### Python Variable Name Rules"
      ]
    },
    {
      "cell_type": "markdown",
      "metadata": {
        "id": "3dWOBB8ve3q_"
      },
      "source": [
        "- Must start with a letter or underscore (`_`)\n",
        "- Must consist of letters, numbers, and underscores\n",
        "- Are case-sensitive"
      ]
    },
    {
      "cell_type": "markdown",
      "metadata": {
        "id": "ZzQRiztse3q_"
      },
      "source": [
        "    Good:      spam    eggs   spam23    _speed\n",
        "    Bad:       23spam  #sign  var.12\n",
        "    Different: spam    Spam   SPAM"
      ]
    },
    {
      "cell_type": "markdown",
      "metadata": {
        "id": "ds2tn3n2e3q_"
      },
      "source": [
        "The code below is perfectly valid, although very confusing because of the variable names given."
      ]
    },
    {
      "cell_type": "code",
      "execution_count": null,
      "metadata": {
        "id": "3I9Ae8LTe3q_"
      },
      "outputs": [],
      "source": [
        "x1q3z9ocd = 35.0\n",
        "x1q3z9afd = 12.50\n",
        "x1q3p9afd = x1q3z9ocd * x1q3z9afd\n",
        "print(x1q3p9afd)"
      ]
    },
    {
      "cell_type": "markdown",
      "metadata": {
        "id": "zz7nODXYe3q_"
      },
      "source": [
        "This one is much easier to understand."
      ]
    },
    {
      "cell_type": "code",
      "execution_count": null,
      "metadata": {
        "id": "SUMOSc3ge3q_"
      },
      "outputs": [],
      "source": [
        "a = 35.0\n",
        "b = 12.50\n",
        "c = a * b\n",
        "print(c)"
      ]
    },
    {
      "cell_type": "markdown",
      "metadata": {
        "id": "sRvlpAqDe3q_"
      },
      "source": [
        "Better still, use meaningful variable names."
      ]
    },
    {
      "cell_type": "code",
      "execution_count": null,
      "metadata": {
        "id": "mxERgozNe3q_"
      },
      "outputs": [],
      "source": [
        "hours = 35.0\n",
        "rate = 12.50\n",
        "pay = hours * rate\n",
        "print(pay)"
      ]
    },
    {
      "cell_type": "markdown",
      "metadata": {
        "id": "yWRNtkkge3q_"
      },
      "source": [
        "The Python convention is to use **lowercase** for variable names. **underscores** are used to make long variable names more readable."
      ]
    },
    {
      "cell_type": "markdown",
      "metadata": {
        "id": "JMIA6fo_e3q_"
      },
      "source": [
        "## Statements and Expressions"
      ]
    },
    {
      "cell_type": "markdown",
      "metadata": {
        "id": "ib4OOVIje3q_"
      },
      "source": [
        "#### Statements\n",
        "Statements contain a complete instruction that Python can execute. They are equivalent to a sentences in a human language.\n",
        "\n",
        "####  Expressions\n",
        "Expressions are a combination of variables, literals and operators.  The python interpreter can understand what they mean, but they do not give a complete instruction. Expressions are used in statements. They are equivalent to a phrases in a human language."
      ]
    },
    {
      "cell_type": "markdown",
      "metadata": {
        "id": "4Hw9AsI7e3q_"
      },
      "source": [
        "If you type an expression in the python interpreter python evaluates it and displays the result."
      ]
    },
    {
      "cell_type": "markdown",
      "metadata": {
        "id": "M1s5jeLee3q_"
      },
      "source": [
        "Try typing the following statements to see what they do"
      ]
    },
    {
      "cell_type": "code",
      "execution_count": null,
      "metadata": {
        "colab": {
          "base_uri": "https://localhost:8080/"
        },
        "id": "VCZZUzbTe3q_",
        "outputId": "db61cf5c-e0a4-4d2e-ab1c-bfa50837d803"
      },
      "outputs": [
        {
          "data": {
            "text/plain": [
              "5"
            ]
          },
          "execution_count": 27,
          "metadata": {},
          "output_type": "execute_result"
        }
      ],
      "source": [
        "5"
      ]
    },
    {
      "cell_type": "code",
      "execution_count": null,
      "metadata": {
        "id": "V5JL4SRUe3q_"
      },
      "outputs": [],
      "source": [
        "x = 5"
      ]
    },
    {
      "cell_type": "markdown",
      "metadata": {
        "id": "HrOZCR4te3q_"
      },
      "source": [
        "But in a script, an expression all by itself doesn't do anything! This is a common source of confusion for beginners.  "
      ]
    },
    {
      "cell_type": "markdown",
      "metadata": {
        "id": "xAug7FoZe3q_"
      },
      "source": [
        "Expressions have to be part of a statement to accomplish something useful."
      ]
    },
    {
      "cell_type": "markdown",
      "metadata": {
        "id": "8_LKURjQe3q_"
      },
      "source": [
        "#### Assignment Statements"
      ]
    },
    {
      "cell_type": "markdown",
      "metadata": {
        "id": "wjJB9OG6e3q_"
      },
      "source": [
        "- We assign a value to a variable using the assignment statement (`=`)\n",
        "- An assignment statement consists of an expression on the right-hand side and a variable to store the result"
      ]
    },
    {
      "cell_type": "markdown",
      "metadata": {
        "id": "uTSRSAD9e3rA"
      },
      "source": [
        "#### Assignment statement"
      ]
    },
    {
      "cell_type": "code",
      "execution_count": null,
      "metadata": {
        "id": "U51XbulKe3rA"
      },
      "outputs": [],
      "source": [
        "x = 0.6\n",
        "x"
      ]
    },
    {
      "cell_type": "markdown",
      "metadata": {
        "id": "xYhzOcpYe3rA"
      },
      "source": [
        "#### Assignment statement with an expression"
      ]
    },
    {
      "cell_type": "code",
      "execution_count": null,
      "metadata": {
        "id": "8nlF7Ltle3rA"
      },
      "outputs": [],
      "source": [
        "x = 3.9 *  x  * ( 1  -  x )\n",
        "x"
      ]
    },
    {
      "cell_type": "markdown",
      "metadata": {
        "id": "e0KI_ovee3rA"
      },
      "source": [
        "####  Statement with a function"
      ]
    },
    {
      "cell_type": "code",
      "execution_count": null,
      "metadata": {
        "id": "toJN2_5xe3rA"
      },
      "outputs": [],
      "source": [
        "print(x)"
      ]
    },
    {
      "cell_type": "markdown",
      "metadata": {
        "id": "s5GFwAN-e3rA"
      },
      "source": [
        "### Operators and operands"
      ]
    },
    {
      "cell_type": "markdown",
      "metadata": {
        "id": "oSs7FfKJe3rA"
      },
      "source": [
        "**Operators** are special symbols that represent computations like addition and multiplication. The values the operator is applied to are called `operands`."
      ]
    },
    {
      "cell_type": "markdown",
      "metadata": {
        "id": "hpfhTdqFe3rA"
      },
      "source": [
        "#### Addition"
      ]
    },
    {
      "cell_type": "code",
      "execution_count": null,
      "metadata": {
        "id": "foAG9rOUe3rA"
      },
      "outputs": [],
      "source": [
        "5 + 2"
      ]
    },
    {
      "cell_type": "markdown",
      "metadata": {
        "id": "t6gDG21Xe3rA"
      },
      "source": [
        "#### Subtraction"
      ]
    },
    {
      "cell_type": "code",
      "execution_count": null,
      "metadata": {
        "id": "PkaCWhR7e3rA"
      },
      "outputs": [],
      "source": [
        "5 - 2"
      ]
    },
    {
      "cell_type": "markdown",
      "metadata": {
        "id": "LFOc2Yu0e3rA"
      },
      "source": [
        "#### Multiplication"
      ]
    },
    {
      "cell_type": "code",
      "execution_count": null,
      "metadata": {
        "id": "gg3NPxpNe3rA"
      },
      "outputs": [],
      "source": [
        "5 * 2"
      ]
    },
    {
      "cell_type": "markdown",
      "metadata": {
        "id": "fyhmS8hXe3rA"
      },
      "source": [
        "#### Division"
      ]
    },
    {
      "cell_type": "code",
      "execution_count": null,
      "metadata": {
        "id": "Ul0V8UQ9e3rA"
      },
      "outputs": [],
      "source": [
        "5 / 2"
      ]
    },
    {
      "cell_type": "markdown",
      "metadata": {
        "id": "hju-rOZre3rA"
      },
      "source": [
        "#### Integer Division"
      ]
    },
    {
      "cell_type": "markdown",
      "metadata": {
        "id": "MvSwkHR3e3rA"
      },
      "source": [
        "Gets the whole number portion only of a division expression."
      ]
    },
    {
      "cell_type": "code",
      "execution_count": null,
      "metadata": {
        "colab": {
          "base_uri": "https://localhost:8080/"
        },
        "id": "aeR86N73e3rA",
        "outputId": "9bd6574d-56c1-4fb7-e6a6-2215ef10a053"
      },
      "outputs": [
        {
          "data": {
            "text/plain": [
              "2"
            ]
          },
          "execution_count": 29,
          "metadata": {},
          "output_type": "execute_result"
        }
      ],
      "source": [
        "5 // 2"
      ]
    },
    {
      "cell_type": "markdown",
      "metadata": {
        "id": "ZGY1zv3oe3rB"
      },
      "source": [
        "##### Note on Python 2<br>\n",
        " [JRJ]\n",
        "> The `/` operator always performs a floating point division in Python 3.x.\n",
        "This is not true in Python 2.x, where the result of `/` is always an integer if the operands are integers.\n",
        "to be more specific, `1/2 = 0.5` (`float`) in Python 3.x, and `1/2 = 0` (`int`) in Python 2.x (but `1.0/2 = 0.5` in Python 2.x).\n",
        "\n"
      ]
    },
    {
      "cell_type": "markdown",
      "metadata": {
        "id": "4A4qrblae3rB"
      },
      "source": [
        "#### Modulo"
      ]
    },
    {
      "cell_type": "markdown",
      "metadata": {
        "id": "6SmhY03Ve3rB"
      },
      "source": [
        "Gets the whole remainder portion only of a division expression."
      ]
    },
    {
      "cell_type": "code",
      "execution_count": null,
      "metadata": {
        "id": "c9eVoF-0e3rB"
      },
      "outputs": [],
      "source": [
        "5 % 2"
      ]
    },
    {
      "cell_type": "markdown",
      "metadata": {
        "id": "SC9aJPMhe3rB"
      },
      "source": [
        "#### Power or Exponentiation"
      ]
    },
    {
      "cell_type": "markdown",
      "metadata": {
        "id": "J_0PRxcce3rB"
      },
      "source": [
        "Compute 5 raised to the 2nd power (or 5 squared):"
      ]
    },
    {
      "cell_type": "code",
      "execution_count": null,
      "metadata": {
        "id": "REoxPbLre3rB"
      },
      "outputs": [],
      "source": [
        "5**2"
      ]
    },
    {
      "cell_type": "markdown",
      "metadata": {
        "id": "fcKsW8tOe3rB"
      },
      "source": [
        "## Order of Evaluation"
      ]
    },
    {
      "cell_type": "markdown",
      "metadata": {
        "id": "Rv3yiQ9ue3rB"
      },
      "source": [
        "When we string operators together - Python must know which one to do first. This is called **operator precedence**."
      ]
    },
    {
      "cell_type": "markdown",
      "metadata": {
        "id": "JA7WrxYce3rB"
      },
      "source": [
        "Which operator “takes precedence” over the others in the expression below?"
      ]
    },
    {
      "cell_type": "code",
      "execution_count": null,
      "metadata": {
        "colab": {
          "base_uri": "https://localhost:8080/"
        },
        "id": "6QqthAFXe3rB",
        "outputId": "7ba2af09-9428-4d39-b297-2d91f2f0500a"
      },
      "outputs": [
        {
          "data": {
            "text/plain": [
              "6.999744"
            ]
          },
          "execution_count": 30,
          "metadata": {},
          "output_type": "execute_result"
        }
      ],
      "source": [
        "x = 1 + 2 * 3 - 4 / 5 ** 6\n",
        "x"
      ]
    },
    {
      "cell_type": "markdown",
      "metadata": {
        "id": "jWVqqh5le3rB"
      },
      "source": [
        "### Operator Precedence Rules"
      ]
    },
    {
      "cell_type": "markdown",
      "metadata": {
        "id": "oSIYOWfKe3rB"
      },
      "source": [
        "Highest precedence rule to lowest precedence rule:\n",
        "1. Parentheses are always respected\n",
        "2. Exponentiation (raise to a power)\n",
        "3. Multiplication, Division, and Modulo\n",
        "4. Addition and Subtraction\n",
        "5. Left to right"
      ]
    },
    {
      "cell_type": "markdown",
      "metadata": {
        "id": "1JFqT8t3e3rB"
      },
      "source": [
        "#### Acronym: P-E-MMD-AS\n",
        "1. Parenthesis\n",
        "2. Exponentiation\n",
        "3. Multiplication /  Modulo / Division\n",
        "4. Addition / Subtraction\n",
        "\n",
        "Left to Right (because it's not Japanese, which is traditionally right to left)"
      ]
    },
    {
      "cell_type": "markdown",
      "metadata": {
        "id": "RROp__X1e3rB"
      },
      "source": [
        "#### Tips"
      ]
    },
    {
      "cell_type": "markdown",
      "metadata": {
        "id": "dut6EKNie3rB"
      },
      "source": [
        "* Keep mathematical expressions simple enough that they are easy to understand.  \n",
        "* Assign intermediate variables to make expressions simpler and clearer"
      ]
    },
    {
      "cell_type": "markdown",
      "metadata": {
        "id": "QJa0BXYIe3rB"
      },
      "source": [
        "## Operations Depending on Type"
      ]
    },
    {
      "cell_type": "markdown",
      "metadata": {
        "id": "Ob7wah1ze3rB"
      },
      "source": [
        "python can perform operations which are suitable to the types of the variables, literals and constants appearing in an expression."
      ]
    },
    {
      "cell_type": "markdown",
      "metadata": {
        "id": "5nuif_SYe3rB"
      },
      "source": [
        "####  `+` operator: integer addition"
      ]
    },
    {
      "cell_type": "code",
      "execution_count": null,
      "metadata": {
        "id": "HaMaVYr0e3rB"
      },
      "outputs": [],
      "source": [
        "d = 1 + 4\n",
        "d"
      ]
    },
    {
      "cell_type": "markdown",
      "metadata": {
        "id": "76rcV5U9e3rC"
      },
      "source": [
        "#### `+` operator: string concatenation"
      ]
    },
    {
      "cell_type": "code",
      "execution_count": null,
      "metadata": {
        "id": "f25ixVN8e3rC"
      },
      "outputs": [],
      "source": [
        "e = 'hello ' + 'there'\n",
        "e"
      ]
    },
    {
      "cell_type": "markdown",
      "metadata": {
        "id": "uWXtr6-oe3rC"
      },
      "source": [
        "However, operations on different types are prohibited"
      ]
    },
    {
      "cell_type": "code",
      "execution_count": null,
      "metadata": {
        "id": "EYAbgKNJe3rC"
      },
      "outputs": [],
      "source": [
        "e = 'hello ' + 'there'\n",
        "e = e + 1"
      ]
    },
    {
      "cell_type": "code",
      "execution_count": null,
      "metadata": {
        "id": "qzaQZILUe3rC"
      },
      "outputs": [],
      "source": [
        "type(e)"
      ]
    },
    {
      "cell_type": "code",
      "execution_count": null,
      "metadata": {
        "id": "c4sEyRpwe3rC"
      },
      "outputs": [],
      "source": [
        "type(1)"
      ]
    },
    {
      "cell_type": "markdown",
      "metadata": {
        "id": "Am3aKQpXe3rC"
      },
      "source": [
        "### Several Types of Numbers"
      ]
    },
    {
      "cell_type": "markdown",
      "metadata": {
        "id": "-u6ahJhwe3rC"
      },
      "source": [
        "Numbers have two main types\n",
        "-  Integers are whole numbers: -14, -2, 0, 1, 100, 401233\n",
        "-  Floating Point Numbers have  decimal parts:  -2.5 , 0.0, 98.6, 14.0\n",
        "\n",
        "There are other number types - they are variations on float and integer"
      ]
    },
    {
      "cell_type": "markdown",
      "metadata": {
        "id": "JJ8d2SWUe3rC"
      },
      "source": [
        "### Type Conversions"
      ]
    },
    {
      "cell_type": "markdown",
      "metadata": {
        "id": "Jj9oVzAhe3rC"
      },
      "source": [
        "When you put an integer and floating point in an expression, the integer is implicitly converted to a float."
      ]
    },
    {
      "cell_type": "code",
      "execution_count": null,
      "metadata": {
        "colab": {
          "base_uri": "https://localhost:8080/"
        },
        "id": "qy_tO8OMe3rC",
        "outputId": "47e58935-7157-461a-eb32-db0624ddbe36"
      },
      "outputs": [
        {
          "name": "stdout",
          "output_type": "stream",
          "text": [
            "3.5\n",
            "<class 'float'>\n"
          ]
        }
      ],
      "source": [
        "x = 1 + 2.5\n",
        "print(x)\n",
        "print(type(x))\n",
        "\n",
        "#あ"
      ]
    },
    {
      "cell_type": "markdown",
      "metadata": {
        "id": "1xZ4QtcHe3rC"
      },
      "source": [
        "### Conversions from String"
      ]
    },
    {
      "cell_type": "markdown",
      "metadata": {
        "id": "24SPQCyqe3rC"
      },
      "source": [
        "- You can also use `int()` and `float()` to convert between strings and integers\n",
        "- You will get an `error` if the string does not contain numeric characters"
      ]
    },
    {
      "cell_type": "code",
      "execution_count": null,
      "metadata": {
        "id": "r1Ha16gPe3rC"
      },
      "outputs": [],
      "source": [
        "string_val = '123'\n",
        "type(string_val)"
      ]
    },
    {
      "cell_type": "markdown",
      "metadata": {
        "id": "JvhLFl2ae3rC"
      },
      "source": [
        "The code below adds an integer to a string and will thus produce an error."
      ]
    },
    {
      "cell_type": "code",
      "execution_count": null,
      "metadata": {
        "id": "qguiiEkde3rC"
      },
      "outputs": [],
      "source": [
        "print(string_val+1)"
      ]
    },
    {
      "cell_type": "markdown",
      "metadata": {
        "id": "tGwEUu73e3rD"
      },
      "source": [
        "Now let's get the integer equivalent of the string using `int()`"
      ]
    },
    {
      "cell_type": "code",
      "execution_count": null,
      "metadata": {
        "id": "uaZqy22ce3rD"
      },
      "outputs": [],
      "source": [
        "int_val = int(string_val)\n",
        "type(int_val)"
      ]
    },
    {
      "cell_type": "code",
      "execution_count": null,
      "metadata": {
        "id": "uaEFes-Me3rD"
      },
      "outputs": [],
      "source": [
        "int_val"
      ]
    },
    {
      "cell_type": "code",
      "execution_count": null,
      "metadata": {
        "id": "Vaql1e3Fe3rD"
      },
      "outputs": [],
      "source": [
        "print(int_val+1)"
      ]
    },
    {
      "cell_type": "markdown",
      "metadata": {
        "id": "RZ2EWVfhe3rD"
      },
      "source": [
        "The code below tries to convert a string with non-numeric content to an integer."
      ]
    },
    {
      "cell_type": "code",
      "execution_count": null,
      "metadata": {
        "id": "Qtf0TLkZe3rD"
      },
      "outputs": [],
      "source": [
        "lotto_jackpot_str = '1,180,622,508'\n",
        "lotto_jackpot_val = int(lotto_jackpot_str)\n",
        "\n",
        "#あ"
      ]
    },
    {
      "cell_type": "markdown",
      "metadata": {
        "id": "ANW_OuFme3rD"
      },
      "source": [
        "## User Input"
      ]
    },
    {
      "cell_type": "markdown",
      "metadata": {
        "id": "DRfQGg06e3rD"
      },
      "source": [
        "- We can instruct Python to pause and read data from the user using the `input()`  function\n",
        "- The `input()` function returns a string"
      ]
    },
    {
      "cell_type": "code",
      "execution_count": null,
      "metadata": {
        "id": "ypJgtjbEe3rD"
      },
      "outputs": [],
      "source": [
        "name = input('Who are you?')\n",
        "print('Welcome', name)"
      ]
    },
    {
      "cell_type": "markdown",
      "metadata": {
        "id": "ItEdkFOGe3rD"
      },
      "source": [
        "### Converting User Input"
      ]
    },
    {
      "cell_type": "markdown",
      "metadata": {
        "id": "cf-uYOM4e3rD"
      },
      "source": [
        "If we want to read a number from the user, we must convert it from a string to a number using a **type conversion** function"
      ]
    },
    {
      "cell_type": "code",
      "execution_count": null,
      "metadata": {
        "id": "aDp3Px2ee3rD"
      },
      "outputs": [],
      "source": [
        "inp = input('Europe floor?')\n",
        "usf = int(inp) + 1\n",
        "print('US floor', usf)"
      ]
    },
    {
      "cell_type": "markdown",
      "metadata": {
        "id": "gXbFwqhce3rD"
      },
      "source": [
        "## Debugging\n",
        "[PEW]"
      ]
    },
    {
      "cell_type": "markdown",
      "metadata": {
        "id": "r1YwzHhae3rD"
      },
      "source": [
        "### Syntax Error"
      ]
    },
    {
      "cell_type": "markdown",
      "metadata": {
        "id": "MnB2Xno5e3rD"
      },
      "source": [
        "At this point, the syntax error you are most likely to make is an illegal variable name, like `class` and `yield`, which are keywords, or `odd~job` and `US$`, which contain illegal characters."
      ]
    },
    {
      "cell_type": "markdown",
      "metadata": {
        "id": "aK0bOQJse3rD"
      },
      "source": [
        "If you put a space in a variable name, Python thinks it is two operands without an operator:"
      ]
    },
    {
      "cell_type": "code",
      "execution_count": null,
      "metadata": {
        "id": "qMrDFQbue3rD"
      },
      "outputs": [],
      "source": [
        "bad name = 5"
      ]
    },
    {
      "cell_type": "code",
      "execution_count": null,
      "metadata": {
        "colab": {
          "base_uri": "https://localhost:8080/",
          "height": 161
        },
        "id": "dpt1rtr1e3rD",
        "outputId": "03eaa6c2-4c4d-4c25-98c0-6ab2156bea88"
      },
      "outputs": [
        {
          "ename": "SyntaxError",
          "evalue": "leading zeros in decimal integer literals are not permitted; use an 0o prefix for octal integers (<ipython-input-32-e1767aafc583>, line 1)",
          "output_type": "error",
          "traceback": [
            "\u001b[0;36m  File \u001b[0;32m\"<ipython-input-32-e1767aafc583>\"\u001b[0;36m, line \u001b[0;32m1\u001b[0m\n\u001b[0;31m    month = 09\u001b[0m\n\u001b[0m            ^\u001b[0m\n\u001b[0;31mSyntaxError\u001b[0m\u001b[0;31m:\u001b[0m leading zeros in decimal integer literals are not permitted; use an 0o prefix for octal integers\n"
          ]
        }
      ],
      "source": [
        "month = 09"
      ]
    },
    {
      "cell_type": "markdown",
      "metadata": {
        "id": "tKzHHJG4e3rD"
      },
      "source": [
        "For syntax errors, the error messages don't help much. The most common messages are `SyntaxError: invalid syntax` and `SyntaxError: invalid token`, neither of which is very informative."
      ]
    },
    {
      "cell_type": "markdown",
      "metadata": {
        "id": "yZWPM88We3rD"
      },
      "source": [
        "#### Runtime Errors"
      ]
    },
    {
      "cell_type": "markdown",
      "metadata": {
        "id": "QQ8b6McGe3rD"
      },
      "source": [
        "The runtime error you are most likely to make is a `name 'some_variable_name' is not defined` that is, trying to use a variable before you have assigned a value. This can happen if you spell a variable name wrong:"
      ]
    },
    {
      "cell_type": "code",
      "execution_count": null,
      "metadata": {
        "id": "i86TIfb1e3rD"
      },
      "outputs": [],
      "source": [
        "principal = 327.68\n",
        "interest = principle * rate"
      ]
    },
    {
      "cell_type": "markdown",
      "metadata": {
        "id": "B1k3JG6me3rD"
      },
      "source": [
        "#### Logic or Semantic Errors"
      ]
    },
    {
      "cell_type": "markdown",
      "metadata": {
        "id": "wTVDt3zne3rE"
      },
      "source": [
        "Suppose you want to evaluate `1 divided by twice of pi`, and you wrote the code below, what you would get instead is one-half of pi.  You will not have a syntax error nor a run time error, but your answer will be incorrect. To fix this problem, make sure you remember the operator precedence. Also, using parenthesis for expression clarity can help."
      ]
    },
    {
      "cell_type": "code",
      "execution_count": null,
      "metadata": {
        "id": "zZYfQAOZe3rE"
      },
      "outputs": [],
      "source": [
        "pi = 3.1415\n",
        "1 / 2*pi"
      ]
    },
    {
      "cell_type": "markdown",
      "metadata": {
        "id": "UFg_fz2Qe3rE"
      },
      "source": [
        "Corrected expressions"
      ]
    },
    {
      "cell_type": "code",
      "execution_count": null,
      "metadata": {
        "id": "MSyUj7c3e3rE"
      },
      "outputs": [],
      "source": [
        "1/(2*pi)"
      ]
    },
    {
      "cell_type": "markdown",
      "metadata": {
        "id": "CJdj4iBfe3rE"
      },
      "source": [
        "or, you can use an intermediary variable (although this would be more advisable for more complex expressions)"
      ]
    },
    {
      "cell_type": "code",
      "execution_count": null,
      "metadata": {
        "id": "9boKQorNe3rE"
      },
      "outputs": [],
      "source": [
        "twice_of_pi = 2 * pi\n",
        "1/twice_of_pi\n",
        "\n",
        "#あ"
      ]
    },
    {
      "cell_type": "markdown",
      "metadata": {
        "id": "nrp5OkNMe3rE"
      },
      "source": [
        "## Final Words"
      ]
    },
    {
      "cell_type": "markdown",
      "metadata": {
        "id": "MMaiMIJze3rE"
      },
      "source": [
        "- Learning a programming language could be frustrating and exciting at the same time\n",
        "  - Much like learning a new language\n",
        "  - We could be overwhelmed by the seemingly endless things we have to learn\n",
        "- Tips\n",
        "  - Learn by doing\n",
        "  - Experiment\n",
        "  - Get used to seeing sytax errors, and fixing them\n",
        "  - If something is too complicated, break it apart\n"
      ]
    },
    {
      "cell_type": "markdown",
      "metadata": {
        "id": "DbBmSjCSe3rE"
      },
      "source": [
        "## EXERCISES"
      ]
    },
    {
      "cell_type": "markdown",
      "metadata": {
        "id": "t6-VMjLFe3rE"
      },
      "source": [
        "#### Exercise 1"
      ]
    },
    {
      "cell_type": "markdown",
      "metadata": {
        "id": "mCgHL_pJe3rE"
      },
      "source": [
        "Write a program that uses input to prompt a user for their name and then welcomes them.\n",
        "```\n",
        "Enter your name: Chuck\n",
        "Hello Chuck\n",
        "```\n",
        "\n",
        "[PEW] E2.2"
      ]
    },
    {
      "cell_type": "code",
      "execution_count": null,
      "metadata": {
        "colab": {
          "base_uri": "https://localhost:8080/"
        },
        "id": "P0tkHh3IgpFH",
        "outputId": "cfd4a512-1bae-4c82-ce87-4795b43c4641"
      },
      "outputs": [
        {
          "name": "stdout",
          "output_type": "stream",
          "text": [
            "Enter your name: Franco\n",
            "Hello Franco\n"
          ]
        }
      ],
      "source": [
        "name = input(\"Enter your name: \")\n",
        "greetings = \"Hello \" + name\n",
        "print(greetings)"
      ]
    },
    {
      "cell_type": "markdown",
      "metadata": {
        "id": "68AfBMuae3rE"
      },
      "source": [
        "#### Exercise 2"
      ]
    },
    {
      "cell_type": "markdown",
      "metadata": {
        "id": "fMgrZqGJe3rE"
      },
      "source": [
        "Write a program to prompt the user for hours and rate per hour to compute gross pay.\n",
        "```\n",
        "Enter Hours: 35\n",
        "Enter Rate: 2.75\n",
        "Pay: 96.25\n",
        "```\n",
        "\n",
        "[PEW] E2.3"
      ]
    },
    {
      "cell_type": "code",
      "execution_count": null,
      "metadata": {
        "colab": {
          "base_uri": "https://localhost:8080/"
        },
        "id": "XKfDyl09g3k_",
        "outputId": "a28f43df-6a45-4d6a-ef88-7dd5225c96f3"
      },
      "outputs": [
        {
          "name": "stdout",
          "output_type": "stream",
          "text": [
            "Enter Hours: 35\n",
            "Enter Rate: 2.75\n",
            "Pay: 96.25\n"
          ]
        }
      ],
      "source": [
        "number_of_hours = int(input(\"Enter Hours: \"))\n",
        "rate_per_hour = float(input(\"Enter Rate: \"))\n",
        "pay = number_of_hours * rate_per_hour\n",
        "print(\"Pay: \" + str(pay))"
      ]
    },
    {
      "cell_type": "markdown",
      "metadata": {
        "id": "fN8y-rWVe3rE"
      },
      "source": [
        "#### Exercise 3"
      ]
    },
    {
      "cell_type": "markdown",
      "metadata": {
        "id": "-JvQGG6ye3rE"
      },
      "source": [
        "Assume that we execute the following assignment statements:\n",
        "```python\n",
        "width = 17\n",
        "height = 12.0\n",
        "```\n",
        "For each of the following expressions, write the value of the expression and the type (of the value of the expression).\n",
        "```python\n",
        "width//2\n",
        "width/2.0\n",
        "height/3\n",
        "1 + 2 * 5\n",
        "```\n",
        "\n",
        "[PEW] E2.4"
      ]
    },
    {
      "cell_type": "code",
      "execution_count": null,
      "metadata": {
        "colab": {
          "base_uri": "https://localhost:8080/"
        },
        "id": "q_KGaS-niOKW",
        "outputId": "74516e2f-d621-43aa-f056-c38aac065fbd"
      },
      "outputs": [
        {
          "name": "stdout",
          "output_type": "stream",
          "text": [
            "8\n",
            "8.5\n",
            "4.0\n",
            "11\n"
          ]
        }
      ],
      "source": [
        "width = 17\n",
        "height = 12.0\n",
        "\n",
        "print(width//2)\n",
        "print(width/2.0)\n",
        "print(height/3)\n",
        "print(1 + 2 * 5)"
      ]
    },
    {
      "cell_type": "markdown",
      "metadata": {
        "id": "d0Y7Z3JZh6Zo"
      },
      "source": [
        "ANSWERS\n",
        "```python\n",
        "width//2 = 8 (int)\n",
        "width/2.0 = 8.5 (float)\n",
        "height/3 = 4.0 (float)\n",
        "1 + 2 * 5 = 11 (int)\n",
        "```"
      ]
    },
    {
      "cell_type": "markdown",
      "metadata": {
        "id": "Q5q2HcTve3rE"
      },
      "source": [
        "#### Exercise 4\n",
        "\n",
        "Write a program that uses input to prompt a user for a number and then outputs the square of the number\n",
        "```\n",
        "Enter a number: 3\n",
        "The square of 3 is 9\n",
        "```"
      ]
    },
    {
      "cell_type": "code",
      "execution_count": null,
      "metadata": {
        "colab": {
          "base_uri": "https://localhost:8080/"
        },
        "id": "KVD4h6ysi_LA",
        "outputId": "1e1ed36c-0743-4f51-97cb-d2c7470339de"
      },
      "outputs": [
        {
          "name": "stdout",
          "output_type": "stream",
          "text": [
            "Enter a number: 3\n",
            "The square of 3 is 9\n"
          ]
        }
      ],
      "source": [
        "number = int(input(\"Enter a number: \"))\n",
        "print(f\"The square of {number} is {number ** 2}\")"
      ]
    },
    {
      "cell_type": "markdown",
      "metadata": {
        "id": "ZYsQb1h-e3rE"
      },
      "source": [
        "## CHALLENGE"
      ]
    },
    {
      "cell_type": "markdown",
      "metadata": {
        "id": "cILbjinke3rE"
      },
      "source": [
        "Write a program which prompts the user for a Celsius temperature, convert the temperature to Fahrenheit, and print out the converted temperature.\n",
        "\n",
        "[PEW] E2.5"
      ]
    },
    {
      "cell_type": "code",
      "execution_count": null,
      "metadata": {
        "colab": {
          "base_uri": "https://localhost:8080/"
        },
        "id": "G6b8MoyzjY8w",
        "outputId": "de5bf66a-3a5a-4380-95f1-7da2149d3d54"
      },
      "outputs": [
        {
          "name": "stdout",
          "output_type": "stream",
          "text": [
            "Temperature (Celsius): 37\n",
            "Fahrenheit: 98.60000000000001\n"
          ]
        }
      ],
      "source": [
        "celsius = float(input(\"Temperature (Celsius): \"))\n",
        "fahrenheit = celsius * (9/5) + 32\n",
        "print(f\"Fahrenheit: {fahrenheit}\")"
      ]
    },
    {
      "cell_type": "markdown",
      "metadata": {
        "id": "iUg1xG6qe3rE"
      },
      "source": [
        "[TABLE OF CONTENTS](#contents)"
      ]
    },
    {
      "cell_type": "markdown",
      "metadata": {
        "id": "bgE-QmcZe3rE"
      },
      "source": [
        "<a id='chapter3'></a>"
      ]
    },
    {
      "cell_type": "markdown",
      "metadata": {
        "id": "SMXjO86Ye3rF"
      },
      "source": [
        "# CHAPTER 3 - Conditional Execution"
      ]
    },
    {
      "cell_type": "markdown",
      "metadata": {
        "id": "0o4cmEPqe3rF"
      },
      "source": [
        "## Boolean Expressions\n",
        "\n",
        "A **boolean expression** is an expression that is either true or false. The following examples use the operator `==`, which compares two operands and produces True if they are equal and False otherwise:"
      ]
    },
    {
      "cell_type": "markdown",
      "metadata": {
        "id": "QgjlLZU2e3rF"
      },
      "source": [
        "The next two cells are assignment statements."
      ]
    },
    {
      "cell_type": "code",
      "execution_count": null,
      "metadata": {
        "id": "lRJ35DOre3rF"
      },
      "outputs": [],
      "source": [
        "x = 5"
      ]
    },
    {
      "cell_type": "code",
      "execution_count": null,
      "metadata": {
        "id": "uTWABF8ze3rF"
      },
      "outputs": [],
      "source": [
        "y = 6"
      ]
    },
    {
      "cell_type": "markdown",
      "metadata": {
        "id": "5TFTcdrae3rF"
      },
      "source": [
        "The next three cells are boolean expressions. Notice the double-equal sign."
      ]
    },
    {
      "cell_type": "code",
      "execution_count": null,
      "metadata": {
        "id": "o8chNjUre3rF"
      },
      "outputs": [],
      "source": [
        "x == 5"
      ]
    },
    {
      "cell_type": "code",
      "execution_count": null,
      "metadata": {
        "id": "RoowEecIe3rF"
      },
      "outputs": [],
      "source": [
        "y == 6"
      ]
    },
    {
      "cell_type": "code",
      "execution_count": null,
      "metadata": {
        "id": "FT2dQ9ANe3rF"
      },
      "outputs": [],
      "source": [
        "x == y"
      ]
    },
    {
      "cell_type": "markdown",
      "metadata": {
        "id": "ap76YnKve3rF"
      },
      "source": [
        "`True` and `False` are special values that belong to the class `bool`; they are not strings:"
      ]
    },
    {
      "cell_type": "code",
      "execution_count": null,
      "metadata": {
        "id": "Wl6GOc0we3rF"
      },
      "outputs": [],
      "source": [
        "type(True)"
      ]
    },
    {
      "cell_type": "code",
      "execution_count": null,
      "metadata": {
        "id": "xXovLT7ue3rF"
      },
      "outputs": [],
      "source": [
        "type(False)"
      ]
    },
    {
      "cell_type": "markdown",
      "metadata": {
        "id": "jM_z09_ee3rF"
      },
      "source": [
        "### Comparison Operators"
      ]
    },
    {
      "cell_type": "markdown",
      "metadata": {
        "id": "jVz7YAU7e3rF"
      },
      "source": [
        "The `==` operator is one of the **comparison operators**; the others are listed below. Comparison operators look at variables but do not change the variables."
      ]
    },
    {
      "cell_type": "code",
      "execution_count": null,
      "metadata": {
        "id": "Cxlgnkk-e3rF"
      },
      "outputs": [],
      "source": [
        "x != y               # x is not equal to y"
      ]
    },
    {
      "cell_type": "code",
      "execution_count": null,
      "metadata": {
        "id": "16U7VIGQe3rF"
      },
      "outputs": [],
      "source": [
        "x > y                # x is greater than y"
      ]
    },
    {
      "cell_type": "code",
      "execution_count": null,
      "metadata": {
        "id": "NUHc2bXte3rF"
      },
      "outputs": [],
      "source": [
        "x < y                # x is less than y"
      ]
    },
    {
      "cell_type": "code",
      "execution_count": null,
      "metadata": {
        "id": "i1uXeMOre3rF"
      },
      "outputs": [],
      "source": [
        "x >= y               # x is greater than or equal to y"
      ]
    },
    {
      "cell_type": "code",
      "execution_count": null,
      "metadata": {
        "id": "2bVvwIKhe3rF"
      },
      "outputs": [],
      "source": [
        "x <= y               # x is less than or equal to y"
      ]
    },
    {
      "cell_type": "code",
      "execution_count": null,
      "metadata": {
        "id": "CmWv8tWqe3rF"
      },
      "outputs": [],
      "source": [
        "x is y               # x is the same as y"
      ]
    },
    {
      "cell_type": "code",
      "execution_count": null,
      "metadata": {
        "id": "6-IdW2Efe3rF"
      },
      "outputs": [],
      "source": [
        "x is not y           # x is not the same as y"
      ]
    },
    {
      "cell_type": "markdown",
      "metadata": {
        "id": "KHJivjcJe3rF"
      },
      "source": [
        "### Logical Operators"
      ]
    },
    {
      "cell_type": "markdown",
      "metadata": {
        "id": "5sJCAi_se3rF"
      },
      "source": [
        "There are three **logical operators**: `and`, `or`, and `not`. The semantics (meaning) of these operators is similar to their meaning in English."
      ]
    },
    {
      "cell_type": "code",
      "execution_count": null,
      "metadata": {
        "id": "WCq45EMPe3rG"
      },
      "outputs": [],
      "source": [
        "True and True"
      ]
    },
    {
      "cell_type": "code",
      "execution_count": null,
      "metadata": {
        "id": "Vzp2Gm0je3rG"
      },
      "outputs": [],
      "source": [
        "True and False"
      ]
    },
    {
      "cell_type": "code",
      "execution_count": null,
      "metadata": {
        "id": "sIgWnNTGe3rG"
      },
      "outputs": [],
      "source": [
        "False and False"
      ]
    },
    {
      "cell_type": "code",
      "execution_count": null,
      "metadata": {
        "id": "ww5Gvdvae3rG"
      },
      "outputs": [],
      "source": [
        "False and True"
      ]
    },
    {
      "cell_type": "code",
      "execution_count": null,
      "metadata": {
        "id": "BCCWAZ-he3rG"
      },
      "outputs": [],
      "source": [
        "True or False"
      ]
    },
    {
      "cell_type": "code",
      "execution_count": null,
      "metadata": {
        "id": "Z5JNiJ5Ze3rG"
      },
      "outputs": [],
      "source": [
        "not True"
      ]
    },
    {
      "cell_type": "code",
      "execution_count": null,
      "metadata": {
        "id": "vdSysFjwe3rG"
      },
      "outputs": [],
      "source": [
        "not False"
      ]
    },
    {
      "cell_type": "code",
      "execution_count": null,
      "metadata": {
        "id": "0ZsEfSRxe3rG"
      },
      "outputs": [],
      "source": [
        "(x==5) and (x < y)"
      ]
    },
    {
      "cell_type": "code",
      "execution_count": null,
      "metadata": {
        "id": "c8HAzyVre3rG"
      },
      "outputs": [],
      "source": [
        "(x>=0) and (y<5)"
      ]
    },
    {
      "cell_type": "code",
      "execution_count": null,
      "metadata": {
        "id": "oJN0DrC0e3rG"
      },
      "outputs": [],
      "source": [
        "(x>=0) or (y<5)"
      ]
    },
    {
      "cell_type": "markdown",
      "metadata": {
        "id": "bAfeeyL6e3rG"
      },
      "source": [
        "## Boolean Expressions and  Program Flow"
      ]
    },
    {
      "cell_type": "markdown",
      "metadata": {
        "id": "bhpoUfZJe3rG"
      },
      "source": [
        "Boolean expressions ask a question and produce a `Yes` or `No` result which we use to control program flow"
      ]
    },
    {
      "cell_type": "code",
      "execution_count": null,
      "metadata": {
        "id": "kuJjXeOPe3rG"
      },
      "outputs": [],
      "source": [
        "x = 5\n",
        "if x < 10:\n",
        "    print('Smaller')\n",
        "if x > 20:\n",
        "    print('Bigger')\n",
        "\n",
        "print('End')"
      ]
    },
    {
      "cell_type": "markdown",
      "metadata": {
        "id": "wrKR1DMCe3rH"
      },
      "source": [
        "## One-Way Decisions"
      ]
    },
    {
      "cell_type": "markdown",
      "metadata": {
        "id": "bzVpyScEe3rH"
      },
      "source": [
        "In order to write useful programs, we almost always need the ability to check conditions and change the behavior of the program accordingly. Conditional statements give us this ability. The simplest form is the **`if`** statement:"
      ]
    },
    {
      "cell_type": "code",
      "execution_count": null,
      "metadata": {
        "id": "Pk4bduXVe3rH"
      },
      "outputs": [],
      "source": [
        "x = 5\n",
        "print('Before 5')\n",
        "if  x == 5:\n",
        "    print('Is 5')\n",
        "    print('Is Still 5')\n",
        "    print('Third 5')\n",
        "print('Afterwards 5')\n",
        "print('Before 6')\n",
        "if x == 6:\n",
        "    print('Is 6')\n",
        "    print('Is Still 6')\n",
        "    print('Third 6')\n",
        "print('Afterwards 6')"
      ]
    },
    {
      "cell_type": "markdown",
      "metadata": {
        "id": "gLA9GBG1e3rH"
      },
      "source": [
        "### A Side Note on Indentation"
      ]
    },
    {
      "cell_type": "markdown",
      "metadata": {
        "id": "Ovr9lBg9e3rH"
      },
      "source": [
        "- Increase indent  after an `if` statement\n",
        "- Maintain indent to indicate the scope of the block (which lines are affected by the `if` statement)\n",
        "- Reduce indent back to the level of the `if` statement to indicate the end of the block\n",
        "- Blank lines are ignored - they do not affect indentation\n",
        "- Comments on a line by themselves are ignored with regard to indentation"
      ]
    },
    {
      "cell_type": "markdown",
      "metadata": {
        "id": "4CgmuwQne3rH"
      },
      "source": [
        "#### Tabs and Spaces\n",
        "Indentation is important in Python and could affect how a code behaves\n",
        "- Jupyter automatically uses spaces\n",
        "- Spyder can turn tabs into spaces - make sure this feature is enabled\n",
        "\n",
        "\n",
        "#### Mixed use of Tabs and Spaces\n",
        " Below is a sample text  in Jupyter copied from an existing code. Even though the code is visually alligned,  the Python kernel complains because: The first `print` statement was made with spaces, while the next two `print` statements were made with tabs.\n"
      ]
    },
    {
      "cell_type": "code",
      "execution_count": null,
      "metadata": {
        "id": "vb1w8NAqe3rH"
      },
      "outputs": [],
      "source": [
        "print('Before 5')\n",
        "if  x == 5 :\n",
        "\tprint('Is 5')         #this is indented with spaces\n",
        "\tprint('Is Still 5')   #this is indented with a tab  (notice the arrow marking)\n",
        "\tprint('Third 5')      #this is indented with a tab  (notice the arrow marking)\n",
        "\n",
        "#あ"
      ]
    },
    {
      "cell_type": "markdown",
      "metadata": {
        "id": "rz6sMX7qe3rH"
      },
      "source": [
        "##  Nested Decisions"
      ]
    },
    {
      "cell_type": "markdown",
      "metadata": {
        "id": "5DZapcnce3rH"
      },
      "source": [
        "One conditional can also be nested within another."
      ]
    },
    {
      "cell_type": "code",
      "execution_count": null,
      "metadata": {
        "id": "29hxWCYge3rH"
      },
      "outputs": [],
      "source": [
        "x = 42\n",
        "if x > 1:\n",
        "    print('More than one')\n",
        "    if x < 100:\n",
        "        print('Less than 100')\n",
        "print('All done')"
      ]
    },
    {
      "cell_type": "markdown",
      "metadata": {
        "id": "5L_2TXnve3rH"
      },
      "source": [
        "### Two-way Decisions with `else`"
      ]
    },
    {
      "cell_type": "code",
      "execution_count": null,
      "metadata": {
        "id": "6_fiYdCSe3rH"
      },
      "outputs": [],
      "source": [
        "x = 4\n",
        "\n",
        "if x > 2 :\n",
        "    print('Bigger')\n",
        "else :\n",
        "    print('Smaller')\n",
        "\n",
        "print('All done')"
      ]
    },
    {
      "cell_type": "markdown",
      "metadata": {
        "id": "CSFpTIPXe3rH"
      },
      "source": [
        "### Multi-way with `elif`"
      ]
    },
    {
      "cell_type": "code",
      "execution_count": null,
      "metadata": {
        "id": "e04wVT8Le3rH"
      },
      "outputs": [],
      "source": [
        "x = 0\n",
        "if x < 2 :\n",
        "    print('small')\n",
        "elif x < 10 :\n",
        "    print('Medium')\n",
        "else :\n",
        "    print('LARGE')\n",
        "print('All done')"
      ]
    },
    {
      "cell_type": "code",
      "execution_count": null,
      "metadata": {
        "id": "3RcPOBbQe3rH"
      },
      "outputs": [],
      "source": [
        "# No Else\n",
        "x = 5\n",
        "if x < 2 :\n",
        "    print('Small')\n",
        "elif x < 10 :\n",
        "    print('Medium')\n",
        "\n",
        "print('All done')"
      ]
    },
    {
      "cell_type": "code",
      "execution_count": null,
      "metadata": {
        "id": "UHrpOWHze3rH"
      },
      "outputs": [],
      "source": [
        "if x < 2 :\n",
        "    print('Small')\n",
        "elif x < 10 :\n",
        "    print('Medium')\n",
        "elif x < 20 :\n",
        "    print('Big')\n",
        "elif x < 40 :\n",
        "    print('Large')\n",
        "elif x < 100:\n",
        "    print('Huge')\n",
        "else :\n",
        "    print('Ginormous')"
      ]
    },
    {
      "cell_type": "markdown",
      "metadata": {
        "id": "vibeLF-Ae3rH"
      },
      "source": [
        "In the code below, which will never print regardless of the value for x?"
      ]
    },
    {
      "cell_type": "code",
      "execution_count": null,
      "metadata": {
        "colab": {
          "base_uri": "https://localhost:8080/"
        },
        "id": "vSXO_YNhe3rI",
        "outputId": "a552b76c-21c8-47c1-fe1f-e524a8c99954"
      },
      "outputs": [
        {
          "name": "stdout",
          "output_type": "stream",
          "text": [
            "Below 20\n"
          ]
        }
      ],
      "source": [
        "if x < 2 :\n",
        "    print('Below 2')\n",
        "elif x < 20 :\n",
        "    print('Below 20')\n",
        "elif x < 10 :\n",
        "    print('Below 10')\n",
        "else :\n",
        "    print('Something else')"
      ]
    },
    {
      "cell_type": "markdown",
      "metadata": {
        "id": "-Fc6jxFne3rI"
      },
      "source": [
        "##  Some advice on using `if` statements\n",
        "- Check all `if` and `elif` statements if they need an `else` part. If you are not sure, then add one, where you print a message, perhaps, with the value of the evaluation expression.\n",
        "- Although it's possible to have lots of nested conditional statements, try to limit the levels to 1 or 2. If having several levels is really necessary, consider making a `function` for some of the levels (see next chapter).\n",
        "- Keep **decision expressions** simple. Complicated decision expressions could be transformed into intermediate variables with meaningful names."
      ]
    },
    {
      "cell_type": "markdown",
      "metadata": {
        "id": "I32Iigv2e3rI"
      },
      "source": [
        "##  Catching exceptions using `try` and `except`"
      ]
    },
    {
      "cell_type": "markdown",
      "metadata": {
        "id": "v2rLDaToe3rI"
      },
      "source": [
        "The code below gets an input and computes its square. Run the code and enter a non-numeric string of characters when prompted for a number."
      ]
    },
    {
      "cell_type": "code",
      "execution_count": null,
      "metadata": {
        "colab": {
          "base_uri": "https://localhost:8080/",
          "height": 251
        },
        "id": "x21DYhMze3rI",
        "outputId": "3a8b5b3e-6368-4792-8ec0-7efc99fc15d2"
      },
      "outputs": [
        {
          "name": "stdout",
          "output_type": "stream",
          "text": [
            "Enter a number:asd\n"
          ]
        },
        {
          "ename": "ValueError",
          "evalue": "could not convert string to float: 'asd'",
          "output_type": "error",
          "traceback": [
            "\u001b[0;31m---------------------------------------------------------------------------\u001b[0m",
            "\u001b[0;31mValueError\u001b[0m                                Traceback (most recent call last)",
            "\u001b[0;32m<ipython-input-46-fb1908fd35b1>\u001b[0m in \u001b[0;36m<cell line: 2>\u001b[0;34m()\u001b[0m\n\u001b[1;32m      1\u001b[0m \u001b[0mnum_str\u001b[0m \u001b[0;34m=\u001b[0m \u001b[0minput\u001b[0m\u001b[0;34m(\u001b[0m\u001b[0;34m'Enter a number:'\u001b[0m\u001b[0;34m)\u001b[0m\u001b[0;34m\u001b[0m\u001b[0;34m\u001b[0m\u001b[0m\n\u001b[0;32m----> 2\u001b[0;31m \u001b[0mnum_val\u001b[0m \u001b[0;34m=\u001b[0m \u001b[0mfloat\u001b[0m\u001b[0;34m(\u001b[0m\u001b[0mnum_str\u001b[0m\u001b[0;34m)\u001b[0m\u001b[0;34m\u001b[0m\u001b[0;34m\u001b[0m\u001b[0m\n\u001b[0m\u001b[1;32m      3\u001b[0m \u001b[0mprint\u001b[0m\u001b[0;34m(\u001b[0m\u001b[0;34m'The square of '\u001b[0m\u001b[0;34m+\u001b[0m\u001b[0mnum_str\u001b[0m\u001b[0;34m+\u001b[0m\u001b[0;34m' is'\u001b[0m\u001b[0;34m)\u001b[0m\u001b[0;34m\u001b[0m\u001b[0;34m\u001b[0m\u001b[0m\n\u001b[1;32m      4\u001b[0m \u001b[0mprint\u001b[0m\u001b[0;34m(\u001b[0m\u001b[0mnum_val\u001b[0m\u001b[0;34m*\u001b[0m\u001b[0mnum_val\u001b[0m\u001b[0;34m)\u001b[0m\u001b[0;34m\u001b[0m\u001b[0;34m\u001b[0m\u001b[0m\n",
            "\u001b[0;31mValueError\u001b[0m: could not convert string to float: 'asd'"
          ]
        }
      ],
      "source": [
        "num_str = input('Enter a number:')\n",
        "num_val = float(num_str)\n",
        "print('The square of '+num_str+' is')\n",
        "print(num_val*num_val)\n"
      ]
    },
    {
      "cell_type": "markdown",
      "metadata": {
        "id": "-E9XA8Kce3rI"
      },
      "source": [
        "The code produced a `ValueError` because the string input could not be converted into float."
      ]
    },
    {
      "cell_type": "markdown",
      "metadata": {
        "id": "my-HhPGwe3rI"
      },
      "source": [
        "There is a conditional execution structure built into Python to handle expected and unexpected errors called `try / except`. The idea of `try and except` is that you know that some sequence of instruction(s) may have a problem and you want to add some statements to be executed if an error occurs. These extra statements (the `except` block) are ignored if there is no error.\n",
        "\n",
        "You can think of the `try and except` feature in Python as an \"insurance policy\" on a sequence of statements."
      ]
    },
    {
      "cell_type": "markdown",
      "metadata": {
        "id": "z10x7Ueye3rI"
      },
      "source": [
        "The code above can be re-written in the following way using a `try-except` block."
      ]
    },
    {
      "cell_type": "code",
      "execution_count": null,
      "metadata": {
        "id": "Q3kqw_4Le3rI"
      },
      "outputs": [],
      "source": [
        "num_str = input('Enter a number:')\n",
        "try:\n",
        "    num_val = float(num_str)\n",
        "    print('The square of '+num_str+' is')\n",
        "    print(num_val*num_val)\n",
        "except:\n",
        "    print('Input error. Try again next time.')\n",
        "\n",
        "#あ"
      ]
    },
    {
      "cell_type": "markdown",
      "metadata": {
        "id": "dFZB6oSle3rI"
      },
      "source": [
        "Python starts by executing the sequence of statements in the `try` block. If all goes well, it skips the except block and proceeds. If an exception occurs in the `try` block, Python jumps out of the `try` block and executes the sequence of statements in the `except` block.\n",
        "\n",
        "Handling an exception with a `try` statement is called **catching an exception**. In this example, the `except` clause prints an error message. In general, catching an exception gives you a chance to fix the problem, or try again, or at least end the program gracefully."
      ]
    },
    {
      "cell_type": "markdown",
      "metadata": {
        "id": "aIxgl5J9e3rI"
      },
      "source": [
        "## Final Words"
      ]
    },
    {
      "cell_type": "markdown",
      "metadata": {
        "id": "g3CAiMafe3rI"
      },
      "source": [
        "Conditional expressions help us draw a map for a programming task by giving us the capability to branch out to several options."
      ]
    },
    {
      "cell_type": "markdown",
      "metadata": {
        "id": "kOrFW6bTe3rI"
      },
      "source": [
        "## EXERCISES"
      ]
    },
    {
      "cell_type": "markdown",
      "metadata": {
        "id": "bGjKPFnGe3rI"
      },
      "source": [
        "#### Exercise 1"
      ]
    },
    {
      "cell_type": "markdown",
      "metadata": {
        "id": "pDbHTZ1Qe3rI"
      },
      "source": [
        "In the code below, which will never print regardless of the value for x? Edit the code to correct the error.\n",
        "\n",
        "```python\n",
        "if x > 0 :\n",
        "    print('Above 0')\n",
        "elif x >  10 :\n",
        "    print('Above 10')\n",
        "elif x > 50 :\n",
        "    print('Above 50')\n",
        "elif x >  20 :\n",
        "    print('Above 20')\n",
        "else :\n",
        "    print('Something else')\n",
        "```"
      ]
    },
    {
      "cell_type": "markdown",
      "metadata": {
        "id": "Pz6thQwBmgdJ"
      },
      "source": [
        "The code above will only print the value inside the first conditional, which is \"Above 0\"."
      ]
    },
    {
      "cell_type": "code",
      "execution_count": null,
      "metadata": {
        "colab": {
          "base_uri": "https://localhost:8080/"
        },
        "id": "ZqqqAnSjlsk6",
        "outputId": "e809ff0b-488b-4c1a-a1ff-26b9863f3d94"
      },
      "outputs": [
        {
          "name": "stdout",
          "output_type": "stream",
          "text": [
            "Number: ASF\n",
            "Invalid input\n"
          ]
        }
      ],
      "source": [
        "x = input(\"Number: \")\n",
        "\n",
        "try:\n",
        "  x = int(x)\n",
        "\n",
        "  if x < 0 :\n",
        "    print('Above 0')\n",
        "  elif x <  10 :\n",
        "      print('Above 10')\n",
        "  elif x < 50 :\n",
        "      print('Above 50')\n",
        "  elif x <  20 :\n",
        "      print('Above 20')\n",
        "  else :\n",
        "      print('Something else')\n",
        "\n",
        "except:\n",
        "  print(\"Invalid input\")"
      ]
    },
    {
      "cell_type": "markdown",
      "metadata": {
        "id": "e2xkW1_Ze3rI"
      },
      "source": [
        "#### Exercise 2"
      ]
    },
    {
      "cell_type": "markdown",
      "metadata": {
        "id": "HLALLCqZe3rI"
      },
      "source": [
        "Write your salary computation to give an employee 1.5 times the hourly rate for hours worked above 40 hours. Example:\n",
        "\n",
        "    Enter Hours: 45\n",
        "    Enter Rate: 10\n",
        "    Pay: 475.0\n",
        "    \n",
        "[PEW] E3.2"
      ]
    },
    {
      "cell_type": "code",
      "execution_count": null,
      "metadata": {
        "colab": {
          "base_uri": "https://localhost:8080/"
        },
        "id": "L6Eb-FtbnQU4",
        "outputId": "e871d373-76e4-4cad-a1cb-9f1ce334d414"
      },
      "outputs": [
        {
          "name": "stdout",
          "output_type": "stream",
          "text": [
            "Enter Hours: 45\n",
            "Enter Rate: 5\n",
            "Pay: 237.5\n"
          ]
        }
      ],
      "source": [
        "number_of_hours = input(\"Enter Hours: \" )\n",
        "rate = input(\"Enter Rate: \" )\n",
        "\n",
        "try:\n",
        "  number_of_hours = int(number_of_hours)\n",
        "  rate = int(rate)\n",
        "\n",
        "  overtime_hours = max(0, number_of_hours - 40)\n",
        "\n",
        "  number_of_hours = min(40, number_of_hours)\n",
        "  overall_pay = rate * number_of_hours + (rate * 1.5 * overtime_hours)\n",
        "\n",
        "  print(f\"Pay: {overall_pay}\")\n",
        "\n",
        "except:\n",
        "  print(\"invalid Input/s\")\n"
      ]
    },
    {
      "cell_type": "markdown",
      "metadata": {
        "id": "SN_HES89e3rI"
      },
      "source": [
        "## CHALLENGE"
      ]
    },
    {
      "cell_type": "markdown",
      "metadata": {
        "id": "ECIVGzywe3rI"
      },
      "source": [
        "Write a program to prompt for a score between 0 and 100 and print a grade using the following table:\n",
        "\n",
        "    Score           Grade\n",
        "    [ 97, 100]      1.0\n",
        "    [ 93,  97)\t\t1.25\n",
        "    [ 89,  93)\t\t1.5\n",
        "    [ 85,  89)\t\t1.75\n",
        "    [ 81,  85)\t\t2.0\n",
        "    [ 77,  81)\t\t2.25\n",
        "    [ 74,  77)\t\t2.5\n",
        "    [ 0,   74)\t\t3.0\n",
        "\n",
        "Adapted from [PEW] E3.3\n",
        "<br>"
      ]
    },
    {
      "cell_type": "code",
      "execution_count": null,
      "metadata": {
        "colab": {
          "base_uri": "https://localhost:8080/"
        },
        "id": "rwujbdjotlfc",
        "outputId": "dfecbdfc-df65-449a-b0f2-88bc2f61f7eb"
      },
      "outputs": [
        {
          "name": "stdout",
          "output_type": "stream",
          "text": [
            "Score: -12\n"
          ]
        }
      ],
      "source": [
        "grade = input(\"Score: \")\n",
        "\n",
        "try:\n",
        "  grade = int(grade)\n",
        "\n",
        "  if grade > 100:\n",
        "    print(\"Invalid\")\n",
        "  elif grade >= 97:\n",
        "    print(\"Grade: 1.0\")\n",
        "  elif grade >= 93:\n",
        "    print(\"Grade: 1.25\")\n",
        "  elif grade >= 89:\n",
        "    print(\"Grade: 1.5\")\n",
        "  elif grade >= 85:\n",
        "    print(\"Grade: 1.75\")\n",
        "  elif grade >= 81:\n",
        "    print(\"Grade: 2.0\")\n",
        "  elif grade >= 77:\n",
        "    print(\"Grade: 2.25\")\n",
        "  elif grade >= 74:\n",
        "    print(\"Grade: 2.5\")\n",
        "  elif grade >= 0:\n",
        "    print(\"Grade: 3.0\")\n",
        "\n",
        "except:\n",
        "  print(\"Invalid Input!!\")"
      ]
    },
    {
      "cell_type": "markdown",
      "metadata": {
        "id": "wg43qJv7e3rI"
      },
      "source": [
        "[TABLE OF CONTENTS](#contents)"
      ]
    },
    {
      "cell_type": "markdown",
      "metadata": {
        "id": "Ac_eWUkfe3rI"
      },
      "source": [
        "<a id='chapter4'></a>"
      ]
    },
    {
      "cell_type": "markdown",
      "metadata": {
        "id": "cYnKaWOre3rI"
      },
      "source": [
        "# CHAPTER 4 - Functions"
      ]
    },
    {
      "cell_type": "markdown",
      "metadata": {
        "id": "yv1YmT7Ne3rJ"
      },
      "source": [
        "In the context of programming, a **function** is a named sequence of statements that performs a computation. When you define a function, you specify the **name** and the **sequence of statements**. Later, you can **call** the function by name. [PEW]"
      ]
    },
    {
      "cell_type": "markdown",
      "metadata": {
        "id": "FCkJAkUTe3rJ"
      },
      "source": [
        "It's important to learn the concept behind `functions` as most of the tools you will be using functions made by other people."
      ]
    },
    {
      "cell_type": "markdown",
      "metadata": {
        "id": "bshlu305e3rJ"
      },
      "source": [
        "## Functions as Stored (and reused) Steps"
      ]
    },
    {
      "cell_type": "markdown",
      "metadata": {
        "id": "sUZCK31Me3rJ"
      },
      "source": [
        "Below is a function named `friend`."
      ]
    },
    {
      "cell_type": "code",
      "execution_count": null,
      "metadata": {
        "id": "TdgGuWyne3rJ"
      },
      "outputs": [],
      "source": [
        "def friend():\n",
        "    print(\"Winter, spring, summer or fall.\")\n",
        "    print(\"I'll be there.\")\n",
        "\n",
        "#あ"
      ]
    },
    {
      "cell_type": "markdown",
      "metadata": {
        "id": "a-eptTNve3rJ"
      },
      "source": [
        "Once the function `friend` is defined, we can `call` it anytime in our code.\n",
        "\n",
        "Run the code below 5 times, for each time, change set the value of the variable `season` to `winter`, `spring`, `summer`, `fall`, and `rainy`"
      ]
    },
    {
      "cell_type": "code",
      "execution_count": null,
      "metadata": {
        "id": "jD7iTxF1e3rJ"
      },
      "outputs": [],
      "source": [
        "season = 'winter'\n",
        "\n",
        "if season =='winter':\n",
        "    friend()\n",
        "    print(\"Yes, I will.\")\n",
        "elif season == 'spring':\n",
        "    friend()\n",
        "    print(\"Oh, yeah!\")\n",
        "elif season is 'summer':\n",
        "    friend()\n",
        "    print(\"Ain't it good to know?\")\n",
        "elif season is 'fall':\n",
        "    friend()\n",
        "    print(\"You've got a friend!\")\n",
        "else:\n",
        "    print('Hu u?')\n",
        "\n",
        "#あ"
      ]
    },
    {
      "cell_type": "markdown",
      "metadata": {
        "id": "4fq7VNOSe3rJ"
      },
      "source": [
        "## Python Functions"
      ]
    },
    {
      "cell_type": "markdown",
      "metadata": {
        "id": "cuCezD4ze3rJ"
      },
      "source": [
        "There are two kinds of functions in Python.\n",
        "-  Built-in functions that are provided as part of Python - `print()`, `input()`, `type()`, `float()`, `int()` ...\n",
        "-  Functions that we define ourselves and then use"
      ]
    },
    {
      "cell_type": "markdown",
      "metadata": {
        "id": "xzOvXHSAe3rJ"
      },
      "source": [
        "## Built-in Functions\n",
        "\n",
        "Below is a list of built-in Python functions."
      ]
    },
    {
      "cell_type": "markdown",
      "metadata": {
        "id": "6VewYjeFe3rJ"
      },
      "source": [
        "    abs()\n",
        "    all()\n",
        "    any()\n",
        "    ascii()\n",
        "    bin()\n",
        "    bool()\n",
        "    breakpoint()\n",
        "    bytearray()\n",
        "    bytes()\n",
        "    callable()\n",
        "    chr()\n",
        "    classmethod()\n",
        "    compile()\n",
        "    complex()\n",
        "    delattr()\n",
        "    dict()\n",
        "    dir()\n",
        "    divmod()\n",
        "    enumerate()\n",
        "    eval()\n",
        "    exec()\n",
        "    filter()\n",
        "    float()\n",
        "    format()\n",
        "    frozenset()\n",
        "    getattr()\n",
        "    globals()\n",
        "    hasattr()\n",
        "    hash()\n",
        "    help()\n",
        "    hex()\n",
        "    id()\n",
        "    input()\n",
        "    int()\n",
        "    isinstance()\n",
        "    issubclass()\n",
        "    iter()\n",
        "    len()\n",
        "    list()\n",
        "    locals()\n",
        "    map()\n",
        "    max()\n",
        "    memoryview()\n",
        "    min()\n",
        "    next()\n",
        "    object()\n",
        "    oct()\n",
        "    open()\n",
        "    ord()\n",
        "    pow()\n",
        "    print()\n",
        "    property()\n",
        "    range()\n",
        "    repr()\n",
        "    reversed()\n",
        "    round()\n",
        "    set()\n",
        "    setattr()\n",
        "    slice()\n",
        "    sorted()\n",
        "    staticmethod()\n",
        "    str()\n",
        "    sum()\n",
        "    super()\n",
        "    tuple()\n",
        "    type()\n",
        "    vars()\n",
        "    zip()\n",
        "    __import__()\n"
      ]
    },
    {
      "cell_type": "markdown",
      "metadata": {
        "id": "Ud-OyDU5e3rJ"
      },
      "source": [
        "You don't have to memorize all of the functions above. You can do a deeper study on any of them once you have to start using it."
      ]
    },
    {
      "cell_type": "markdown",
      "metadata": {
        "id": "OX2nU6pxe3rJ"
      },
      "source": [
        "#### Warning\n",
        "\n",
        "Make sure that you don't use any of the above names as a variable name because it will disassociate the name to the corresponding built-in function, resulting in run-time errors that could be difficult to find.\n",
        "\n",
        "In particular, the following names are common enough to be easily used in a program, so make the active effort **never to use them** as variable names."
      ]
    },
    {
      "cell_type": "markdown",
      "metadata": {
        "id": "9USBOKx6e3rJ"
      },
      "source": [
        "    str()\n",
        "    sum()\n",
        "    max()\n",
        "    min()\n",
        "    len()\n",
        "    list()\n",
        "    set()\n",
        "    input()\n",
        "    "
      ]
    },
    {
      "cell_type": "markdown",
      "metadata": {
        "id": "Q8cOn3m2e3rJ"
      },
      "source": [
        "## Building our Own Functions"
      ]
    },
    {
      "cell_type": "markdown",
      "metadata": {
        "id": "PHios859e3rJ"
      },
      "source": [
        "- We create a new function using the **`def`** keyword followed by optional parameters in parentheses and a **`:`** (colon) at the end\n",
        "- We **_indent_ the body** of the function (this is important)\n",
        "- This defines the function but does not execute the body of the function"
      ]
    },
    {
      "cell_type": "code",
      "execution_count": null,
      "metadata": {
        "id": "V6EhtuCSe3rK"
      },
      "outputs": [],
      "source": [
        "temperature = -10\n",
        "season = 'winter'\n",
        "print(season)\n",
        "\n",
        "def friend():\n",
        "    print(\"Winter, spring, summer or fall.\")\n",
        "    print(\"And I'll be there.\")\n",
        "\n",
        "temperature = 36\n",
        "season = 'summer'\n",
        "print(season)\n",
        "print(temperature)\n",
        "\n",
        "#あ"
      ]
    },
    {
      "cell_type": "markdown",
      "metadata": {
        "id": "aLdKfLMwe3rK"
      },
      "source": [
        "## Calling or Invoking Functions"
      ]
    },
    {
      "cell_type": "markdown",
      "metadata": {
        "id": "Qrh7fB5ie3rK"
      },
      "source": [
        "Once we have defined a function, we can **call** (or invoke) it as many times as we like"
      ]
    },
    {
      "cell_type": "code",
      "execution_count": null,
      "metadata": {
        "id": "inR6I8Jse3rK"
      },
      "outputs": [],
      "source": [
        "friend()\n",
        "friend()\n",
        "friend()\n",
        "\n",
        "#あ"
      ]
    },
    {
      "cell_type": "markdown",
      "metadata": {
        "id": "cXXBaf-Oe3rK"
      },
      "source": [
        "## Parameters"
      ]
    },
    {
      "cell_type": "markdown",
      "metadata": {
        "id": "D2wwN0Mje3rK"
      },
      "source": [
        "A **parameter** is a variable which we use in the function definition.  It is a **handle** that allows the code in the function to access the **arguments** for a particular function invocation."
      ]
    },
    {
      "cell_type": "markdown",
      "metadata": {
        "id": "LrwzJqJde3rK"
      },
      "source": [
        "- Parameters: A variable used in the function `definition`\n",
        "- Arguments: inputs to the function in a function `call`"
      ]
    },
    {
      "cell_type": "code",
      "execution_count": null,
      "metadata": {
        "id": "qoFA00e1e3rK"
      },
      "outputs": [],
      "source": [
        "def call_a_friend(season):\n",
        "    if season =='winter':\n",
        "        friend()\n",
        "        print(\"Yes, I will.\")\n",
        "    elif season == 'spring':\n",
        "        friend()\n",
        "        print(\"Oh, yeah!\")\n",
        "    elif season is 'summer':\n",
        "        friend()\n",
        "        print(\"Ain't it good to know?\")\n",
        "    elif season is 'fall':\n",
        "        friend()\n",
        "        print(\"You've got a friend!\")\n",
        "    else:\n",
        "        print('Who u?')\n",
        "\n",
        "#あ"
      ]
    },
    {
      "cell_type": "code",
      "execution_count": null,
      "metadata": {
        "id": "R5keHAeQe3rK"
      },
      "outputs": [],
      "source": [
        "call_a_friend('winter')"
      ]
    },
    {
      "cell_type": "code",
      "execution_count": null,
      "metadata": {
        "id": "gpATA0Z6e3rK"
      },
      "outputs": [],
      "source": [
        "call_a_friend('fall')"
      ]
    },
    {
      "cell_type": "code",
      "execution_count": null,
      "metadata": {
        "id": "IHGkucZse3rK"
      },
      "outputs": [],
      "source": [
        "call_a_friend('rainy')"
      ]
    },
    {
      "cell_type": "markdown",
      "metadata": {
        "id": "Y6pH_oAte3rK"
      },
      "source": [
        "## Return Values"
      ]
    },
    {
      "cell_type": "markdown",
      "metadata": {
        "id": "om_UwmbNe3rK"
      },
      "source": [
        "The **`return`** statement ends the function execution and *sends back* the result of the function"
      ]
    },
    {
      "cell_type": "code",
      "execution_count": null,
      "metadata": {
        "id": "KlXAPM5Ie3rK"
      },
      "outputs": [],
      "source": [
        "def greet(lang):\n",
        "    if lang == 'es':\n",
        "        return 'Hola'\n",
        "    elif lang == 'fr':\n",
        "        return 'Bonjour'\n",
        "    else:\n",
        "        return 'Hello'"
      ]
    },
    {
      "cell_type": "code",
      "execution_count": null,
      "metadata": {
        "id": "ojVxTO18e3rK"
      },
      "outputs": [],
      "source": [
        "greet('es')"
      ]
    },
    {
      "cell_type": "code",
      "execution_count": null,
      "metadata": {
        "id": "-DB47Fp7e3rK"
      },
      "outputs": [],
      "source": [
        "spanish = greet('es')"
      ]
    },
    {
      "cell_type": "code",
      "execution_count": null,
      "metadata": {
        "id": "zBBYrSsBe3rK"
      },
      "outputs": [],
      "source": [
        "print(spanish + ' Glenn')"
      ]
    },
    {
      "cell_type": "code",
      "execution_count": null,
      "metadata": {
        "id": "FFUEdkE4e3rK"
      },
      "outputs": [],
      "source": [
        "print(greet('fr') + ' Sally')"
      ]
    },
    {
      "cell_type": "code",
      "execution_count": null,
      "metadata": {
        "id": "jKJpIDcye3rK"
      },
      "outputs": [],
      "source": [
        "print(greet('en') + ' Michael')"
      ]
    },
    {
      "cell_type": "markdown",
      "metadata": {
        "id": "t3qE5W_Ie3rL"
      },
      "source": [
        "## Multiple Parameters / Arguments"
      ]
    },
    {
      "cell_type": "markdown",
      "metadata": {
        "id": "pCALCrE-e3rL"
      },
      "source": [
        "- We can define more than one parameter in the function definition\n",
        "- We simply add more arguments when we call the function\n",
        "- We match the number and order of arguments and parameters"
      ]
    },
    {
      "cell_type": "code",
      "execution_count": null,
      "metadata": {
        "id": "6PSKGtn8e3rL"
      },
      "outputs": [],
      "source": [
        "def addtwo(a, b):\n",
        "    added = a + b\n",
        "    return added\n",
        "\n",
        "x = addtwo(3, 5)\n",
        "print(x)"
      ]
    },
    {
      "cell_type": "markdown",
      "metadata": {
        "id": "xqp2F8qre3rL"
      },
      "source": [
        "## Default argument and keyword arguments\n",
        "[JRJ]"
      ]
    },
    {
      "cell_type": "markdown",
      "metadata": {
        "id": "SbEDtvoPe3rL"
      },
      "source": [
        "In a definition of a function, we can give default values to the arguments the function takes:"
      ]
    },
    {
      "cell_type": "code",
      "execution_count": null,
      "metadata": {
        "id": "Tacrbi5ke3rL"
      },
      "outputs": [],
      "source": [
        "def myfunc(x, p=2, debug=False):\n",
        "    if debug:\n",
        "        print(\"evaluating myfunc for x = \" + str(x) + \" using exponent p = \" + str(p))\n",
        "    return x**p"
      ]
    },
    {
      "cell_type": "markdown",
      "metadata": {
        "id": "HZlYvoHGe3rL"
      },
      "source": [
        "If we don't provide a value of the `debug` argument when calling the the function `myfunc` it defaults to the value provided in the function definition:"
      ]
    },
    {
      "cell_type": "code",
      "execution_count": null,
      "metadata": {
        "id": "FGxbyhuLe3rL"
      },
      "outputs": [],
      "source": [
        "#あ default parameters not provided\n",
        "#あ  the function will use the default values p=2 and debug=False\n",
        "myfunc(5)"
      ]
    },
    {
      "cell_type": "code",
      "execution_count": null,
      "metadata": {
        "id": "7s-5eKSMe3rL"
      },
      "outputs": [],
      "source": [
        "\n",
        "myfunc(5, debug=True)"
      ]
    },
    {
      "cell_type": "markdown",
      "metadata": {
        "id": "9rWgKIkze3rL"
      },
      "source": [
        "If we explicitly list the name of the arguments in the function calls, they do not need to come in the same order as in the function definition. This is called `keyword arguments`, and is often very useful in functions that takes a lot of optional arguments."
      ]
    },
    {
      "cell_type": "code",
      "execution_count": null,
      "metadata": {
        "id": "VWxPBpz-e3rL"
      },
      "outputs": [],
      "source": [
        "myfunc(p=3, debug=True, x=7)"
      ]
    },
    {
      "cell_type": "markdown",
      "metadata": {
        "id": "uonfeKHBe3rL"
      },
      "source": [
        "## Why use functions?\n",
        "[PEW]\n",
        "\n",
        "It may not be clear why it is worth the trouble to divide a program into functions. There are several reasons:\n",
        "\n",
        "- Creating a new function gives you an opportunity to name a group of statements, which makes your program easier to read, understand, and debug.\n",
        "\n",
        "- Functions can make a program smaller by eliminating repetitive code. Later, if you make a change, you only have to make it in one place.\n",
        "\n",
        "- Dividing a long program into functions allows you to debug the parts one at a time and then assemble them into a working whole.\n",
        "\n",
        "- Well-designed functions are often useful for many programs. Once you write and debug one, you can reuse it."
      ]
    },
    {
      "cell_type": "markdown",
      "metadata": {
        "id": "gZIo_i3ue3rL"
      },
      "source": [
        "## Final Words"
      ]
    },
    {
      "cell_type": "markdown",
      "metadata": {
        "id": "QR8ldFHFe3rL"
      },
      "source": [
        "Functions allow you to re-use previously-written code (by you, or by somebody else). You need to understand well how functions work in order to take advantage of the extensive library of functions in Python.<br>\n",
        "Libraries (or modules) exist for:\n",
        "- Scientific Computing\n",
        "- Data manipulation\n",
        "- Plotting\n",
        "- Machine Learning"
      ]
    },
    {
      "cell_type": "markdown",
      "metadata": {
        "id": "GMjpQdgxe3rM"
      },
      "source": [
        "## EXERCISES"
      ]
    },
    {
      "cell_type": "markdown",
      "metadata": {
        "id": "vqvAc3E8e3rM"
      },
      "source": [
        "#### Exercise 1"
      ]
    },
    {
      "cell_type": "markdown",
      "metadata": {
        "id": "FnC5OJKse3rM"
      },
      "source": [
        "Rewrite your pay computation with time-and-a-half for overtime and create a function called compute pay which takes two parameters (hours and rate).\n",
        "\n",
        "    Enter Hours: 45\n",
        "    Enter Rate: 10\n",
        "    Pay: 475.0\n",
        "    \n",
        "[PEW] E4.6"
      ]
    },
    {
      "cell_type": "code",
      "execution_count": null,
      "metadata": {
        "colab": {
          "base_uri": "https://localhost:8080/"
        },
        "id": "SLAvqnr3ZPZU",
        "outputId": "c8ad16b0-f965-4a42-da2a-25add63a9b41"
      },
      "outputs": [
        {
          "name": "stdout",
          "output_type": "stream",
          "text": [
            "Enter Hours: 30\n",
            "Enter Rate: 10\n",
            "300.0\n"
          ]
        }
      ],
      "source": [
        "def compute_pay(hours, rate):\n",
        "\n",
        "  time_and_a_half = (rate/2) + rate\n",
        "  number_of_hours = min(40, hours)\n",
        "  overtime_hours = max(0, hours - 40)\n",
        "\n",
        "  overall_pay = (rate * number_of_hours) + (time_and_a_half * overtime_hours)\n",
        "\n",
        "  return overall_pay\n",
        "\n",
        "number_of_hours = input(\"Enter Hours: \" )\n",
        "rate = input(\"Enter Rate: \" )\n",
        "\n",
        "try:\n",
        "  number_of_hours = int(number_of_hours)\n",
        "  rate = int(rate)\n",
        "\n",
        "  print(compute_pay(number_of_hours, rate))\n",
        "except Exception as e:\n",
        "  print(\"invalid Input/s: \", e)"
      ]
    },
    {
      "cell_type": "markdown",
      "metadata": {
        "id": "7mW1h8PMe3rM"
      },
      "source": [
        "## CHALLENGE"
      ]
    },
    {
      "cell_type": "markdown",
      "metadata": {
        "id": "Af7as9H2e3rM"
      },
      "source": [
        "#### Challenge"
      ]
    },
    {
      "cell_type": "markdown",
      "metadata": {
        "id": "9PzHw4oBe3rM"
      },
      "source": [
        "Write a function called computegrade that takes a score as its parameter and returns a grade as a string using the following table:\n",
        "\n",
        "    Score           Grade\n",
        "    [ 97, 100]      1.0\n",
        "    [ 93,  97)\t\t1.25\n",
        "    [ 89,  93)\t\t1.5\n",
        "    [ 85,  89)\t\t1.75\n",
        "    [ 81,  85)\t\t2.0\n",
        "    [ 77,  81)\t\t2.25\n",
        "    [ 74,  77)\t\t2.5\n",
        "    [ 0,   74)\t\t3.0\n",
        "\n",
        "    Run the program repeatedly to test the various different values for input.\n",
        "    \n",
        "Adapted from [PEW] E4.6\n",
        "<br>"
      ]
    },
    {
      "cell_type": "code",
      "execution_count": null,
      "metadata": {
        "colab": {
          "base_uri": "https://localhost:8080/"
        },
        "id": "-DEnqynyo_L9",
        "outputId": "218cead8-3979-42da-fbfd-bfa872cc9405"
      },
      "outputs": [
        {
          "name": "stdout",
          "output_type": "stream",
          "text": [
            "Score: 100\n",
            "Grade: 1.0\n",
            "Score: 105\n",
            "Invalid\n",
            "Score: 94\n",
            "Grade: 1.25\n"
          ]
        }
      ],
      "source": [
        "def computegrade(grade):\n",
        "\n",
        "  if grade > 100:\n",
        "    return \"Invalid\"\n",
        "\n",
        "  elif grade >= 97:\n",
        "    return \"Grade: 1.0\"\n",
        "\n",
        "  elif grade >= 93:\n",
        "    return \"Grade: 1.25\"\n",
        "\n",
        "  elif grade >= 89:\n",
        "    return \"Grade: 1.5\"\n",
        "\n",
        "  elif grade >= 85:\n",
        "    return \"Grade: 1.75\"\n",
        "\n",
        "  elif grade >= 81:\n",
        "    return \"Grade: 2.0\"\n",
        "\n",
        "  elif grade >= 77:\n",
        "    return \"Grade: 2.25\"\n",
        "\n",
        "  elif grade >= 74:\n",
        "    return \"Grade: 2.5\"\n",
        "\n",
        "  elif grade >= 0:\n",
        "    return \"Grade: 3.0\"\n",
        "\n",
        "\n",
        "grade = input(\"Score: \")\n",
        "try:\n",
        "  grade = int(grade)\n",
        "  print(computegrade(grade))\n",
        "\n",
        "except:\n",
        "  print(\"Invalid Input!!\")\n",
        "\n"
      ]
    },
    {
      "cell_type": "markdown",
      "metadata": {
        "id": "msIzTNote3rM"
      },
      "source": [
        "[TABLE OF CONTENTS](#contents)"
      ]
    },
    {
      "cell_type": "markdown",
      "metadata": {
        "id": "5ilbTH_Ye3rM"
      },
      "source": [
        "<a id='chapter5'></a>"
      ]
    },
    {
      "cell_type": "markdown",
      "metadata": {
        "id": "o9kDx11We3rM"
      },
      "source": [
        "# CHAPTER  5 - ITERATIONS"
      ]
    },
    {
      "cell_type": "markdown",
      "metadata": {
        "id": "0oUETl_Te3rM"
      },
      "source": [
        "Computers are often used to automate repetitive tasks. Repeating identical or similar tasks without making errors is something that computers do well and people do poorly. Because **iteration** is so common, Python provides several language features to make it easier. [PEW]"
      ]
    },
    {
      "cell_type": "markdown",
      "metadata": {
        "id": "AidpmINGe3rM"
      },
      "source": [
        "## Indefinite Loops with `while`"
      ]
    },
    {
      "cell_type": "markdown",
      "metadata": {
        "id": "Iw9hKPToe3rM"
      },
      "source": [
        "**`While`** loops are called **indefinite loops** because they keep going until  a logical condition becomes **`False`**"
      ]
    },
    {
      "cell_type": "raw",
      "metadata": {
        "id": "IC0tDRuye3rM"
      },
      "source": [
        "n = 5\n",
        "while n > 0 :\n",
        "    print(n)\n",
        "    n = n - 1\n",
        "print('Blastoff!')\n",
        "print(n)"
      ]
    },
    {
      "cell_type": "markdown",
      "metadata": {
        "id": "1DAynhM4e3rM"
      },
      "source": [
        "More formally, here is the flow of execution for a `while` statement:\n",
        "\n",
        "- Evaluate the condition, yielding `True` or `False`.\n",
        "- If the condition is false, exit the while statement and continue execution at the next statement.\n",
        "- If the condition is true, execute the body and then go back to step 1."
      ]
    },
    {
      "cell_type": "markdown",
      "metadata": {
        "id": "mb6ms2Tge3rM"
      },
      "source": [
        "This type of flow is called a **loop** because the third step loops back around to the top. We call each time we execute the body of the loop an **iteration**. For the above loop, we would say, \"It had five iterations\", which means that the body of the loop was executed five times.\n",
        "\n",
        "The body of the loop should change the value of one or more variables so that eventually the condition becomes false and the loop terminates. We call the variable that changes each time the loop executes and controls when the loop finishes the **iteration variable**. If there is no iteration variable, the loop will repeat forever, resulting in an **infinite loop**. [PEW]"
      ]
    },
    {
      "cell_type": "markdown",
      "metadata": {
        "id": "mdXZW489e3rM"
      },
      "source": [
        "## `Break` and `Continue` in Loops"
      ]
    },
    {
      "cell_type": "markdown",
      "metadata": {
        "id": "XUKbYQqYe3rM"
      },
      "source": [
        "### Breaking Out of a Loop with `break`"
      ]
    },
    {
      "cell_type": "markdown",
      "metadata": {
        "id": "aWNJolB9e3rM"
      },
      "source": [
        "Sometimes you don't know it's time to end a loop until you get half way through the body. In that case you can write an infinite loop on purpose and then use the break statement to jump out of the loop. [PEW]"
      ]
    },
    {
      "cell_type": "code",
      "execution_count": null,
      "metadata": {
        "id": "ZXempuAze3rM"
      },
      "outputs": [],
      "source": [
        "while True:\n",
        "    line = input('> ')\n",
        "    if line == 'done' :\n",
        "        break\n",
        "    print(line)\n",
        "print('Done!')"
      ]
    },
    {
      "cell_type": "markdown",
      "metadata": {
        "id": "sg8BmGBne3rN"
      },
      "source": [
        "### Finishing an Iteration with `continue`"
      ]
    },
    {
      "cell_type": "markdown",
      "metadata": {
        "id": "sZP4nq2he3rN"
      },
      "source": [
        "Here is an example of a loop that copies its input until the user types \"done\", but treats lines that start with the hash character as lines not to be printed (kind of like Python comments)."
      ]
    },
    {
      "cell_type": "code",
      "execution_count": null,
      "metadata": {
        "colab": {
          "base_uri": "https://localhost:8080/"
        },
        "id": "EhgomHv7e3rN",
        "outputId": "d058bfe2-3b1e-4d56-af33-6470c04303b0"
      },
      "outputs": [
        {
          "name": "stdout",
          "output_type": "stream",
          "text": [
            "> #hot dog mo\n",
            "> eyyy'\n",
            "eyyy'\n",
            "> done\n",
            "Done!\n"
          ]
        }
      ],
      "source": [
        "while True:\n",
        "    line = input('> ')\n",
        "    if line[0] == '#' :\n",
        "        continue\n",
        "    if line == 'done' :\n",
        "        break\n",
        "    print(line)\n",
        "print('Done!')"
      ]
    },
    {
      "cell_type": "markdown",
      "metadata": {
        "id": "uky3lUN9e3rN"
      },
      "source": [
        "If you run the code, all the lines are printed except the one that starts with the hash sign because when the `continue` is executed, it ends the current iteration and jumps back to the while statement to start the next iteration, thus skipping the `print` statement."
      ]
    },
    {
      "cell_type": "markdown",
      "metadata": {
        "id": "UUAA6h_5e3rN"
      },
      "source": [
        "## Definite Loops with `for`"
      ]
    },
    {
      "cell_type": "markdown",
      "metadata": {
        "id": "BLBYVVPke3rN"
      },
      "source": [
        "Sometimes we want to loop through a set of things such as a list of words, the lines in a file, or a list of numbers. When we have a list of things to loop through, we can construct a **definite loop** using a **`for`** statement. We call the while statement an indefinite loop because it simply loops until some condition becomes False, whereas the **for loop** is looping through a known set of items so it runs through as many iterations as there are items in the set. [PEW]"
      ]
    },
    {
      "cell_type": "markdown",
      "metadata": {
        "id": "ky-mZ9p2e3rN"
      },
      "source": [
        "### A Simple Definite Loop"
      ]
    },
    {
      "cell_type": "code",
      "execution_count": null,
      "metadata": {
        "colab": {
          "base_uri": "https://localhost:8080/"
        },
        "id": "xIf0zwtDe3rN",
        "outputId": "a36302b7-c499-421f-d2f3-2f107e3598cb"
      },
      "outputs": [
        {
          "name": "stdout",
          "output_type": "stream",
          "text": [
            "5\n",
            "4\n",
            "3\n",
            "2\n",
            "1\n",
            "Blastoff!\n"
          ]
        }
      ],
      "source": [
        "for i in [5, 4, 3, 2, 1]:\n",
        "    print(i)\n",
        "print('Blastoff!')"
      ]
    },
    {
      "cell_type": "markdown",
      "metadata": {
        "id": "foZyCY5oe3rN"
      },
      "source": [
        "### A Definite Loop with Strings"
      ]
    },
    {
      "cell_type": "code",
      "execution_count": null,
      "metadata": {
        "colab": {
          "base_uri": "https://localhost:8080/"
        },
        "id": "9HWIN8lZe3rN",
        "outputId": "063b39bd-e89d-4279-b219-3b28d0ce939c"
      },
      "outputs": [
        {
          "name": "stdout",
          "output_type": "stream",
          "text": [
            "Happy New Year: Joseph\n",
            "Happy New Year: Glenn\n",
            "Happy New Year: Sally\n",
            "Done!\n"
          ]
        }
      ],
      "source": [
        "friends = ['Joseph', 'Glenn', 'Sally']\n",
        "for friend in friends:\n",
        "   print('Happy New Year:', friend)\n",
        "print('Done!')"
      ]
    },
    {
      "cell_type": "markdown",
      "metadata": {
        "id": "32YUFgege3rN"
      },
      "source": [
        "In Python terms, the variable `friends` is a **`list`** of three strings and the for loop goes through the list and executes the body once for each of the three strings in the list resulting in this output:"
      ]
    },
    {
      "cell_type": "markdown",
      "metadata": {
        "id": "sHgpJ58te3rN"
      },
      "source": [
        "In particular, `friend` is the iteration variable for the `for` loop. The variable `friend` changes for each iteration of the loop and controls when the `for` loop completes. The iteration variable steps successively through the three strings stored in the `friends` variable."
      ]
    },
    {
      "cell_type": "markdown",
      "metadata": {
        "id": "IQ3WZdkOe3rN"
      },
      "source": [
        "### A for loop with a List of Numbers"
      ]
    },
    {
      "cell_type": "code",
      "execution_count": null,
      "metadata": {
        "colab": {
          "base_uri": "https://localhost:8080/"
        },
        "id": "ndU1Tp0pe3rN",
        "outputId": "600de5d5-19e7-4299-e722-4c1abc219dac"
      },
      "outputs": [
        {
          "name": "stdout",
          "output_type": "stream",
          "text": [
            "Before\n",
            "1\n",
            "2\n",
            "3\n",
            "5\n",
            "8\n",
            "13\n",
            "After\n"
          ]
        }
      ],
      "source": [
        "print('Before')\n",
        "for num in [1, 2, 3, 5, 8, 13]:\n",
        "     print(num)\n",
        "print('After')"
      ]
    },
    {
      "cell_type": "markdown",
      "metadata": {
        "id": "MAWK99pte3rN"
      },
      "source": [
        "## Example Tasks with Solved by Using Loops"
      ]
    },
    {
      "cell_type": "markdown",
      "metadata": {
        "id": "8u0yzlHpe3rN"
      },
      "source": [
        "Often we use a `for` or `while` loop to go through a list of items or the contents of a file and we are looking for something such as the largest or smallest value of the data we scan through.\n",
        "\n",
        "These loops are generally constructed by:\n",
        "\n",
        "- Initializing one or more variables before the loop starts\n",
        "- Performing some computation on each item in the loop body, possibly changing the variables in the body of the loop\n",
        "- Looking at the resulting variables when the loop completes\n",
        "\n",
        "We will use a list of numbers to demonstrate the concepts and construction of these loop patterns. [PEW]"
      ]
    },
    {
      "cell_type": "markdown",
      "metadata": {
        "id": "htnwiCMie3rN"
      },
      "source": [
        "Note: The codes below are mainly from [PEW]. The variable names have been edited to make the code more readable."
      ]
    },
    {
      "cell_type": "markdown",
      "metadata": {
        "id": "zhC9NfQOe3rN"
      },
      "source": [
        "### Finding the Largest Value"
      ]
    },
    {
      "cell_type": "code",
      "execution_count": null,
      "metadata": {
        "colab": {
          "base_uri": "https://localhost:8080/"
        },
        "id": "WIkvV6Bxe3rO",
        "outputId": "32fd1a4c-67a1-4737-89b0-13814b665d5c"
      },
      "outputs": [
        {
          "name": "stdout",
          "output_type": "stream",
          "text": [
            "Before -1\n",
            "9 9\n",
            "41 41\n",
            "41 12\n",
            "41 3\n",
            "74 74\n",
            "74 15\n"
          ]
        }
      ],
      "source": [
        "largest_so_far = -1\n",
        "print('Before', largest_so_far)\n",
        "for num in [9, 41, 12, 3, 74, 15]:\n",
        "   if num > largest_so_far :\n",
        "      largest_so_far = num\n",
        "   print(largest_so_far, num)"
      ]
    },
    {
      "cell_type": "markdown",
      "metadata": {
        "id": "pXur_uUZe3rO"
      },
      "source": [
        "### Counting in a Loop"
      ]
    },
    {
      "cell_type": "code",
      "execution_count": null,
      "metadata": {
        "colab": {
          "base_uri": "https://localhost:8080/"
        },
        "id": "fhOMVP10e3rO",
        "outputId": "a173d6e4-88a4-4483-ccf3-787dfbc9522b"
      },
      "outputs": [
        {
          "name": "stdout",
          "output_type": "stream",
          "text": [
            "Before 0\n",
            "1 9\n",
            "2 41\n",
            "3 12\n",
            "4 3\n",
            "5 74\n",
            "6 15\n",
            "After 6\n"
          ]
        }
      ],
      "source": [
        "count = 0\n",
        "print('Before', count)\n",
        "for num in [9, 41, 12, 3, 74, 15]:\n",
        "    count = count + 1\n",
        "    print(count, num)\n",
        "print('After', count)"
      ]
    },
    {
      "cell_type": "markdown",
      "metadata": {
        "id": "wB_gXvTke3rO"
      },
      "source": [
        "### Summing in a Loop"
      ]
    },
    {
      "cell_type": "code",
      "execution_count": null,
      "metadata": {
        "id": "cNjXY7H9e3rO"
      },
      "outputs": [],
      "source": [
        "total = 0\n",
        "print('Before', total)\n",
        "for item in [9, 41, 12, 3, 74, 15]:\n",
        "    total = total + num\n",
        "    print(total, num)\n",
        "print('After', total)\n",
        "\n",
        "#あ Note that you could have chosen the variable name sum.\n",
        "#   However, sum is actually a built-in function in python."
      ]
    },
    {
      "cell_type": "markdown",
      "metadata": {
        "id": "IWbF1g5Ye3rO"
      },
      "source": [
        "### Finding the Average in a Loop"
      ]
    },
    {
      "cell_type": "code",
      "execution_count": null,
      "metadata": {
        "colab": {
          "base_uri": "https://localhost:8080/"
        },
        "id": "KnitQWuae3rO",
        "outputId": "afe32515-fec5-46bd-8e92-daed5bf95803"
      },
      "outputs": [
        {
          "name": "stdout",
          "output_type": "stream",
          "text": [
            "Before 0 0\n",
            "1 9 9\n",
            "2 50 41\n",
            "3 62 12\n",
            "4 65 3\n",
            "5 139 74\n",
            "6 154 15\n",
            "After 6 154 25.666666666666668\n"
          ]
        }
      ],
      "source": [
        "count = 0\n",
        "total = 0\n",
        "print('Before', count, total)\n",
        "for num in [9, 41, 12, 3, 74, 15]:\n",
        "    count = count + 1\n",
        "    total = total + num\n",
        "    print(count, total, num)\n",
        "print('After', count, total, total / count)"
      ]
    },
    {
      "cell_type": "markdown",
      "metadata": {
        "id": "kwDhBFtQe3rO"
      },
      "source": [
        "### Filtering in a Loop"
      ]
    },
    {
      "cell_type": "code",
      "execution_count": null,
      "metadata": {
        "colab": {
          "base_uri": "https://localhost:8080/"
        },
        "id": "Sy0FX_-je3rP",
        "outputId": "adfcd4ac-3a4c-465a-8615-00f96610784c"
      },
      "outputs": [
        {
          "name": "stdout",
          "output_type": "stream",
          "text": [
            "Before\n",
            "Large number 41\n",
            "Large number 74\n",
            "After\n"
          ]
        }
      ],
      "source": [
        "print('Before')\n",
        "for value in [9, 41, 12, 3, 74, 15]:\n",
        "    if value > 20:\n",
        "        print('Large number',value)\n",
        "print('After')"
      ]
    },
    {
      "cell_type": "markdown",
      "metadata": {
        "id": "4t_R_Xyve3rP"
      },
      "source": [
        "### Search Using a Boolean Variable"
      ]
    },
    {
      "cell_type": "code",
      "execution_count": null,
      "metadata": {
        "colab": {
          "base_uri": "https://localhost:8080/"
        },
        "id": "rt7s3BkNe3rP",
        "outputId": "e5b33196-c66e-42fd-ea97-50c14fea5adb"
      },
      "outputs": [
        {
          "name": "stdout",
          "output_type": "stream",
          "text": [
            "Before False\n",
            "False 9\n",
            "False 41\n",
            "False 12\n",
            "True 3\n",
            "True 74\n",
            "True 15\n",
            "After True\n"
          ]
        }
      ],
      "source": [
        "found = False\n",
        "print('Before', found)\n",
        "for value in [9, 41, 12, 3, 74, 15]:\n",
        "   if value == 3 :\n",
        "       found = True\n",
        "   print(found, value)\n",
        "print('After', found)"
      ]
    },
    {
      "cell_type": "markdown",
      "metadata": {
        "id": "Z2IPngVKe3rP"
      },
      "source": [
        "### How to Find the Largest Value"
      ]
    },
    {
      "cell_type": "code",
      "execution_count": null,
      "metadata": {
        "id": "WOoYlXFFe3rP"
      },
      "outputs": [],
      "source": [
        "largest_so_far = -1\n",
        "print('Before', largest_so_far)\n",
        "for the_num in [9, 41, 12, 3, 74, 15]:\n",
        "   if the_num > largest_so_far :\n",
        "      largest_so_far = the_num\n",
        "   print(largest_so_far, the_num)\n",
        "\n",
        "print('After', largest_so_far)"
      ]
    },
    {
      "cell_type": "markdown",
      "metadata": {
        "id": "lZLpF09pe3rP"
      },
      "source": [
        "### How to Find the Smallest Value using `None`"
      ]
    },
    {
      "cell_type": "code",
      "execution_count": null,
      "metadata": {
        "id": "SmsulfA1e3rP"
      },
      "outputs": [],
      "source": [
        "smallest = None\n",
        "print('Before')\n",
        "for value in [9, 41, 12, 3, 74, 15]:\n",
        "    if smallest is None :\n",
        "        smallest = value\n",
        "    elif value < smallest :\n",
        "        smallest = value\n",
        "    print(smallest, value)\n",
        "print('After', smallest)"
      ]
    },
    {
      "cell_type": "markdown",
      "metadata": {
        "id": "KLCHAcz0e3rP"
      },
      "source": [
        "## Final Words"
      ]
    },
    {
      "cell_type": "markdown",
      "metadata": {
        "id": "egAnEQvoe3rP"
      },
      "source": [
        "- Loops give you the power to process in a *pipeline* large amounts of similar or related data\n",
        "- Most loops in python are done using `for` loops\n",
        "- Adapt the code snippets discussed in the latter part of this section to solve similar problems later on."
      ]
    },
    {
      "cell_type": "markdown",
      "metadata": {
        "id": "lMymMvrve3rQ"
      },
      "source": [
        "## EXERCISES"
      ]
    },
    {
      "cell_type": "markdown",
      "metadata": {
        "id": "WrWqQhdue3rQ"
      },
      "source": [
        "#### Exercise 1"
      ]
    },
    {
      "cell_type": "markdown",
      "metadata": {
        "id": "JkkxmMpoe3rQ"
      },
      "source": [
        "Investigate on the difference between `is` and `==` given the following variables.\n",
        "```python\n",
        "a = 2\n",
        "b = 2.0\n",
        "c = a\n",
        "```"
      ]
    },
    {
      "cell_type": "markdown",
      "metadata": {
        "id": "GiooqrPmwaFl"
      },
      "source": [
        "```python\n",
        "a = 2 # is an int\n",
        "b = 2.0 # is a float\n",
        "c = a # reference to a\n",
        "```\n",
        "\n",
        "\" == \" checks the **value** of the object is the same, otherwise false <br>\n",
        "\" is \" checks the **memory allocation** of the object is the same, otherwise false"
      ]
    },
    {
      "cell_type": "code",
      "execution_count": null,
      "metadata": {
        "colab": {
          "base_uri": "https://localhost:8080/"
        },
        "id": "FB6nCYlGu_d5",
        "outputId": "08174dc7-1254-44a4-adaf-1f61ba27c163"
      },
      "outputs": [
        {
          "name": "stdout",
          "output_type": "stream",
          "text": [
            "True\n",
            "False\n",
            "True\n",
            "True\n",
            "True\n",
            "False\n"
          ]
        }
      ],
      "source": [
        "a = 2\n",
        "b = 2.0\n",
        "c = a\n",
        "\n",
        "print(a == b)\n",
        "print(a is b)\n",
        "print(a == c)\n",
        "print(a is c)\n",
        "\n",
        "print(b == c)\n",
        "print(b is c)"
      ]
    },
    {
      "cell_type": "markdown",
      "metadata": {
        "id": "HnR5qgaHe3rQ"
      },
      "source": [
        "## CHALLENGES"
      ]
    },
    {
      "cell_type": "markdown",
      "metadata": {
        "id": "Ae2HErw9e3rQ"
      },
      "source": [
        "#### Challenge 1"
      ]
    },
    {
      "cell_type": "markdown",
      "metadata": {
        "id": "0pmOvKife3rQ"
      },
      "source": [
        "Write a program which repeatedly reads numbers until the user enters \"done\". Once \"done\" is entered, print out the total, count, and average of the numbers. If the user enters anything other than a number, detect their mistake using try and except and print an error message and skip to the next number.\n",
        "\n",
        "    Enter a number: 4\n",
        "    Enter a number: 5\n",
        "    Enter a number: bad data\n",
        "    Invalid input\n",
        "    Enter a number: 7\n",
        "    Enter a number: done\n",
        "    16 3 5.333333333333333\n",
        "    \n",
        "[PEW] E5.1"
      ]
    },
    {
      "cell_type": "code",
      "execution_count": null,
      "metadata": {
        "colab": {
          "base_uri": "https://localhost:8080/"
        },
        "id": "9s-Ko7aYMfOA",
        "outputId": "8728224c-fb62-457f-9cbb-fd14421177b6"
      },
      "outputs": [
        {
          "name": "stdout",
          "output_type": "stream",
          "text": [
            "Enter a number: 4\n",
            "Enter a number: 5\n",
            "Enter a number: bad data\n",
            "Invalid input\n",
            "Enter a number: 7\n",
            "Enter a number: done\n",
            "16 3 5.333333333333333\n"
          ]
        }
      ],
      "source": [
        "count = 0\n",
        "sum = 0\n",
        "\n",
        "while True:\n",
        "  user = input(\"Enter a number: \")\n",
        "\n",
        "  if (user == \"done\"):\n",
        "    print(sum, count, sum/count)\n",
        "    break\n",
        "\n",
        "  if (user.isdigit()):\n",
        "    count+=1\n",
        "    sum += int(user)\n",
        "\n",
        "  else:\n",
        "    print(\"Invalid input\")\n"
      ]
    },
    {
      "cell_type": "markdown",
      "metadata": {
        "id": "ts7aZrXte3rQ"
      },
      "source": [
        "#### Challenge 2  "
      ]
    },
    {
      "cell_type": "markdown",
      "metadata": {
        "id": "GiUa3gnoe3rQ"
      },
      "source": [
        "Write another program that prompts for a list of numbers as above and at the end prints out both the maximum and minimum of the numbers instead of the average.\n",
        "\n",
        "[PEW] E5.2"
      ]
    },
    {
      "cell_type": "code",
      "execution_count": null,
      "metadata": {
        "colab": {
          "base_uri": "https://localhost:8080/"
        },
        "id": "UCoboFhHP_kZ",
        "outputId": "6bba0465-e69a-44c2-a805-e692bcbb7f45"
      },
      "outputs": [
        {
          "name": "stdout",
          "output_type": "stream",
          "text": [
            "Enter a number: 9\n",
            "Enter a number: 2\n",
            "Enter a number: 8\n",
            "Enter a number: 3\n",
            "Enter a number: 5\n",
            "Enter a number: 1\n",
            "Enter a number: done\n",
            "9 1\n"
          ]
        }
      ],
      "source": [
        "inputs = []\n",
        "largest = -1\n",
        "while True:\n",
        "  try:\n",
        "\n",
        "    user = input(\"Enter a number: \")\n",
        "    if (user == \"done\"):\n",
        "      for num in inputs:\n",
        "\n",
        "        if num > largest:\n",
        "          largest = num\n",
        "\n",
        "      smallest = inputs[0]\n",
        "      for i in range(1, len(inputs)):\n",
        "        if (inputs[i] < smallest):\n",
        "          smallest = inputs[i]\n",
        "\n",
        "      print(\"Largest: \", largest, \"Smallest: \", smallest)\n",
        "      break\n",
        "\n",
        "    inputs.append(int(user))\n",
        "\n",
        "  except Exception as e:\n",
        "    print(\"Invalid Input\")"
      ]
    },
    {
      "cell_type": "markdown",
      "metadata": {
        "id": "Nz5J9o-Ge3rQ"
      },
      "source": [
        "[TABLE OF CONTENTS](#contents)"
      ]
    },
    {
      "cell_type": "markdown",
      "metadata": {
        "id": "EJAAvS6Ke3rQ"
      },
      "source": [
        "<a id='chapter6'></a>"
      ]
    }
  ],
  "metadata": {
    "accelerator": "GPU",
    "colab": {
      "gpuType": "T4",
      "provenance": [],
      "toc_visible": true
    },
    "kernelspec": {
      "display_name": "Python 3",
      "name": "python3"
    },
    "language_info": {
      "codemirror_mode": {
        "name": "ipython",
        "version": 3
      },
      "file_extension": ".py",
      "mimetype": "text/x-python",
      "name": "python",
      "nbconvert_exporter": "python",
      "pygments_lexer": "ipython3",
      "version": "3.11.5"
    }
  },
  "nbformat": 4,
  "nbformat_minor": 0
}
